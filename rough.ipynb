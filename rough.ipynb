{
 "cells": [
  {
   "cell_type": "markdown",
   "metadata": {},
   "source": [
    "## Northwind database\n",
    "\n",
    "Northwind is a company that sells specialty foods. I was given a mandate to  \"__do something with this database__\" as my first project as a new hire. Unfortunatly at the end of last week, the whole computer science division got sick. It was someone's birthday and they all ate bad sheet cake. I wasn't aware those could *actually* go bad.\n",
    "\n",
    "I was able to find a entity-relation diagram for the database but not much else. So to break down this task:\n",
    "1. First I am going to have to explore the database myself to see the basic metrics of the company.\n",
    "2. Then I will use this basic data to formulate some hypotheses concerning some underlying trends.\n",
    "3. Finally I will attempt to test out these ideas to prove myself right or wrong."
   ]
  },
  {
   "cell_type": "code",
   "execution_count": 149,
   "metadata": {},
   "outputs": [],
   "source": [
    "import sqlalchemy\n",
    "from sqlalchemy import create_engine, inspect\n",
    "from sqlalchemy.orm import Session, sessionmaker #importing libraries I will use. This list has been added as I progressed throughout the notebook\n",
    "import matplotlib.pyplot as plt\n",
    "import numpy as np\n",
    "import pandas as pd\n",
    "from sklearn import preprocessing\n",
    "import seaborn as sns\n",
    "from statsmodels.stats.multicomp import pairwise_tukeyhsd\n",
    "from scipy.stats import ttest_1samp\n",
    "from sklearn.model_selection import train_test_split"
   ]
  },
  {
   "cell_type": "code",
   "execution_count": 3,
   "metadata": {},
   "outputs": [
    {
     "name": "stdout",
     "output_type": "stream",
     "text": [
      "2019-01-26 10:19:11,598 INFO sqlalchemy.engine.base.Engine SELECT CAST('test plain returns' AS VARCHAR(60)) AS anon_1\n",
      "2019-01-26 10:19:11,600 INFO sqlalchemy.engine.base.Engine ()\n",
      "2019-01-26 10:19:11,601 INFO sqlalchemy.engine.base.Engine SELECT CAST('test unicode returns' AS VARCHAR(60)) AS anon_1\n",
      "2019-01-26 10:19:11,602 INFO sqlalchemy.engine.base.Engine ()\n",
      "2019-01-26 10:19:11,605 INFO sqlalchemy.engine.base.Engine SELECT name FROM sqlite_master WHERE type='table' ORDER BY name\n",
      "2019-01-26 10:19:11,606 INFO sqlalchemy.engine.base.Engine ()\n"
     ]
    },
    {
     "data": {
      "text/plain": [
       "['Category',\n",
       " 'Customer',\n",
       " 'CustomerCustomerDemo',\n",
       " 'CustomerDemographic',\n",
       " 'Employee',\n",
       " 'EmployeeTerritory',\n",
       " 'Order',\n",
       " 'OrderDetail',\n",
       " 'Product',\n",
       " 'Region',\n",
       " 'Shipper',\n",
       " 'Supplier',\n",
       " 'Territory']"
      ]
     },
     "execution_count": 3,
     "metadata": {},
     "output_type": "execute_result"
    }
   ],
   "source": [
    "#engine = create_engine('sqlite:///Northwind_large.sqlite', echo=True)\n",
    "engine = create_engine('sqlite:///Northwind_small.sqlite', echo=True)\n",
    "Session = sessionmaker(bind=engine)\n",
    "session = Session()\n",
    "\n",
    "inspector = inspect(engine) #checking the ERD against the actual database\n",
    "inspector.get_table_names()"
   ]
  },
  {
   "cell_type": "markdown",
   "metadata": {},
   "source": [
    "So found my first discrepancy, most the table names are stated as singular while the ERD have them as plural.  \n",
    "  \n",
    "I will submit a ticket to the deparment to fix this when they get back."
   ]
  },
  {
   "cell_type": "code",
   "execution_count": 4,
   "metadata": {},
   "outputs": [
    {
     "name": "stdout",
     "output_type": "stream",
     "text": [
      "2019-01-26 10:19:11,618 INFO sqlalchemy.engine.base.Engine PRAGMA table_info(\"Product\")\n",
      "2019-01-26 10:19:11,620 INFO sqlalchemy.engine.base.Engine ()\n"
     ]
    },
    {
     "data": {
      "text/plain": [
       "[{'name': 'Id',\n",
       "  'type': INTEGER(),\n",
       "  'nullable': True,\n",
       "  'default': None,\n",
       "  'autoincrement': 'auto',\n",
       "  'primary_key': 1},\n",
       " {'name': 'ProductName',\n",
       "  'type': VARCHAR(length=8000),\n",
       "  'nullable': True,\n",
       "  'default': None,\n",
       "  'autoincrement': 'auto',\n",
       "  'primary_key': 0},\n",
       " {'name': 'SupplierId',\n",
       "  'type': INTEGER(),\n",
       "  'nullable': False,\n",
       "  'default': None,\n",
       "  'autoincrement': 'auto',\n",
       "  'primary_key': 0},\n",
       " {'name': 'CategoryId',\n",
       "  'type': INTEGER(),\n",
       "  'nullable': False,\n",
       "  'default': None,\n",
       "  'autoincrement': 'auto',\n",
       "  'primary_key': 0},\n",
       " {'name': 'QuantityPerUnit',\n",
       "  'type': VARCHAR(length=8000),\n",
       "  'nullable': True,\n",
       "  'default': None,\n",
       "  'autoincrement': 'auto',\n",
       "  'primary_key': 0},\n",
       " {'name': 'UnitPrice',\n",
       "  'type': DECIMAL(),\n",
       "  'nullable': False,\n",
       "  'default': None,\n",
       "  'autoincrement': 'auto',\n",
       "  'primary_key': 0},\n",
       " {'name': 'UnitsInStock',\n",
       "  'type': INTEGER(),\n",
       "  'nullable': False,\n",
       "  'default': None,\n",
       "  'autoincrement': 'auto',\n",
       "  'primary_key': 0},\n",
       " {'name': 'UnitsOnOrder',\n",
       "  'type': INTEGER(),\n",
       "  'nullable': False,\n",
       "  'default': None,\n",
       "  'autoincrement': 'auto',\n",
       "  'primary_key': 0},\n",
       " {'name': 'ReorderLevel',\n",
       "  'type': INTEGER(),\n",
       "  'nullable': False,\n",
       "  'default': None,\n",
       "  'autoincrement': 'auto',\n",
       "  'primary_key': 0},\n",
       " {'name': 'Discontinued',\n",
       "  'type': INTEGER(),\n",
       "  'nullable': False,\n",
       "  'default': None,\n",
       "  'autoincrement': 'auto',\n",
       "  'primary_key': 0}]"
      ]
     },
     "execution_count": 4,
     "metadata": {},
     "output_type": "execute_result"
    }
   ],
   "source": [
    "inspector.get_columns('Product')"
   ]
  },
  {
   "cell_type": "markdown",
   "metadata": {},
   "source": [
    "A bit messy, I recall a function that I had used previously that I could use to help in cleaning this up."
   ]
  },
  {
   "cell_type": "code",
   "execution_count": 5,
   "metadata": {},
   "outputs": [],
   "source": [
    "def get_column_info(col_name): #quick function based on https://github.com/learn-co-curriculum/dsc-2-13-11-queries-with-sqlalchemy-lab\n",
    "    col_list = inspector.get_columns(col_name)\n",
    "    print(f'Table Name: {col_name} \\n')\n",
    "    \n",
    "    for col in col_list:\n",
    "        if col['primary_key'] == 1:\n",
    "            print(f\"{col['name']}  ||PRIMARY KEY||  dtype: {col['type']}\")\n",
    "        else:\n",
    "            print(f\"{col['name']}     dtype: {col['type']}\")\n",
    "                  "
   ]
  },
  {
   "cell_type": "code",
   "execution_count": 6,
   "metadata": {},
   "outputs": [
    {
     "name": "stdout",
     "output_type": "stream",
     "text": [
      "Table Name: Product \n",
      "\n",
      "Id  ||PRIMARY KEY||  dtype: INTEGER\n",
      "ProductName     dtype: VARCHAR(8000)\n",
      "SupplierId     dtype: INTEGER\n",
      "CategoryId     dtype: INTEGER\n",
      "QuantityPerUnit     dtype: VARCHAR(8000)\n",
      "UnitPrice     dtype: DECIMAL\n",
      "UnitsInStock     dtype: INTEGER\n",
      "UnitsOnOrder     dtype: INTEGER\n",
      "ReorderLevel     dtype: INTEGER\n",
      "Discontinued     dtype: INTEGER\n"
     ]
    }
   ],
   "source": [
    "get_column_info('Product')"
   ]
  },
  {
   "cell_type": "code",
   "execution_count": 7,
   "metadata": {},
   "outputs": [
    {
     "name": "stdout",
     "output_type": "stream",
     "text": [
      "2019-01-26 10:19:11,738 INFO sqlalchemy.engine.base.Engine PRAGMA table_info(\"Employee\")\n",
      "2019-01-26 10:19:11,747 INFO sqlalchemy.engine.base.Engine ()\n",
      "Table Name: Employee \n",
      "\n",
      "Id  ||PRIMARY KEY||  dtype: INTEGER\n",
      "LastName     dtype: VARCHAR(8000)\n",
      "FirstName     dtype: VARCHAR(8000)\n",
      "Title     dtype: VARCHAR(8000)\n",
      "TitleOfCourtesy     dtype: VARCHAR(8000)\n",
      "BirthDate     dtype: VARCHAR(8000)\n",
      "HireDate     dtype: VARCHAR(8000)\n",
      "Address     dtype: VARCHAR(8000)\n",
      "City     dtype: VARCHAR(8000)\n",
      "Region     dtype: VARCHAR(8000)\n",
      "PostalCode     dtype: VARCHAR(8000)\n",
      "Country     dtype: VARCHAR(8000)\n",
      "HomePhone     dtype: VARCHAR(8000)\n",
      "Extension     dtype: VARCHAR(8000)\n",
      "Photo     dtype: BLOB\n",
      "Notes     dtype: VARCHAR(8000)\n",
      "ReportsTo     dtype: INTEGER\n",
      "PhotoPath     dtype: VARCHAR(8000)\n"
     ]
    }
   ],
   "source": [
    "get_column_info('Employee')"
   ]
  },
  {
   "cell_type": "code",
   "execution_count": 8,
   "metadata": {},
   "outputs": [
    {
     "name": "stdout",
     "output_type": "stream",
     "text": [
      "2019-01-26 10:19:11,793 INFO sqlalchemy.engine.base.Engine PRAGMA table_info(\"Supplier\")\n",
      "2019-01-26 10:19:11,801 INFO sqlalchemy.engine.base.Engine ()\n",
      "Table Name: Supplier \n",
      "\n",
      "Id  ||PRIMARY KEY||  dtype: INTEGER\n",
      "CompanyName     dtype: VARCHAR(8000)\n",
      "ContactName     dtype: VARCHAR(8000)\n",
      "ContactTitle     dtype: VARCHAR(8000)\n",
      "Address     dtype: VARCHAR(8000)\n",
      "City     dtype: VARCHAR(8000)\n",
      "Region     dtype: VARCHAR(8000)\n",
      "PostalCode     dtype: VARCHAR(8000)\n",
      "Country     dtype: VARCHAR(8000)\n",
      "Phone     dtype: VARCHAR(8000)\n",
      "Fax     dtype: VARCHAR(8000)\n",
      "HomePage     dtype: VARCHAR(8000)\n"
     ]
    }
   ],
   "source": [
    "get_column_info('Supplier')"
   ]
  },
  {
   "cell_type": "markdown",
   "metadata": {},
   "source": [
    "  \n",
    "So a quick check of the different tables align with the ERD. That is good. But I should be checking out the individual tables before calling them nevertheless, it is good pratice.\n",
    "  \n",
    "Now lets start checking out a few things:\n",
    "- How much of what are we selling?\n",
    "- Who are our main suppliers?\n",
    "- What does our customer base look like?\n",
    "- What is the geographical spread of our workforce?\n",
    "\n",
    "Once we know these things, we will have a broad overview of the business. From there we will investigate any abnormalities or go splunking for underlying trends.\n",
    "___\n",
    "---\n",
    "Now lets make a connect to the engine and make sure it works."
   ]
  },
  {
   "cell_type": "code",
   "execution_count": 9,
   "metadata": {},
   "outputs": [],
   "source": [
    "con = engine.connect() #connecting the engine to be able to make queries"
   ]
  },
  {
   "cell_type": "code",
   "execution_count": 10,
   "metadata": {},
   "outputs": [
    {
     "name": "stdout",
     "output_type": "stream",
     "text": [
      "2019-01-26 10:19:11,857 INFO sqlalchemy.engine.base.Engine SELECT * FROM Product\n",
      "2019-01-26 10:19:11,858 INFO sqlalchemy.engine.base.Engine ()\n"
     ]
    },
    {
     "data": {
      "text/html": [
       "<div>\n",
       "<style scoped>\n",
       "    .dataframe tbody tr th:only-of-type {\n",
       "        vertical-align: middle;\n",
       "    }\n",
       "\n",
       "    .dataframe tbody tr th {\n",
       "        vertical-align: top;\n",
       "    }\n",
       "\n",
       "    .dataframe thead th {\n",
       "        text-align: right;\n",
       "    }\n",
       "</style>\n",
       "<table border=\"1\" class=\"dataframe\">\n",
       "  <thead>\n",
       "    <tr style=\"text-align: right;\">\n",
       "      <th></th>\n",
       "      <th>Id</th>\n",
       "      <th>ProductName</th>\n",
       "      <th>SupplierId</th>\n",
       "      <th>CategoryId</th>\n",
       "      <th>QuantityPerUnit</th>\n",
       "      <th>UnitPrice</th>\n",
       "      <th>UnitsInStock</th>\n",
       "      <th>UnitsOnOrder</th>\n",
       "      <th>ReorderLevel</th>\n",
       "      <th>Discontinued</th>\n",
       "    </tr>\n",
       "  </thead>\n",
       "  <tbody>\n",
       "    <tr>\n",
       "      <th>0</th>\n",
       "      <td>1</td>\n",
       "      <td>Chai</td>\n",
       "      <td>1</td>\n",
       "      <td>1</td>\n",
       "      <td>10 boxes x 20 bags</td>\n",
       "      <td>18.00</td>\n",
       "      <td>39</td>\n",
       "      <td>0</td>\n",
       "      <td>10</td>\n",
       "      <td>0</td>\n",
       "    </tr>\n",
       "    <tr>\n",
       "      <th>1</th>\n",
       "      <td>2</td>\n",
       "      <td>Chang</td>\n",
       "      <td>1</td>\n",
       "      <td>1</td>\n",
       "      <td>24 - 12 oz bottles</td>\n",
       "      <td>19.00</td>\n",
       "      <td>17</td>\n",
       "      <td>40</td>\n",
       "      <td>25</td>\n",
       "      <td>0</td>\n",
       "    </tr>\n",
       "    <tr>\n",
       "      <th>2</th>\n",
       "      <td>3</td>\n",
       "      <td>Aniseed Syrup</td>\n",
       "      <td>1</td>\n",
       "      <td>2</td>\n",
       "      <td>12 - 550 ml bottles</td>\n",
       "      <td>10.00</td>\n",
       "      <td>13</td>\n",
       "      <td>70</td>\n",
       "      <td>25</td>\n",
       "      <td>0</td>\n",
       "    </tr>\n",
       "    <tr>\n",
       "      <th>3</th>\n",
       "      <td>4</td>\n",
       "      <td>Chef Anton's Cajun Seasoning</td>\n",
       "      <td>2</td>\n",
       "      <td>2</td>\n",
       "      <td>48 - 6 oz jars</td>\n",
       "      <td>22.00</td>\n",
       "      <td>53</td>\n",
       "      <td>0</td>\n",
       "      <td>0</td>\n",
       "      <td>0</td>\n",
       "    </tr>\n",
       "    <tr>\n",
       "      <th>4</th>\n",
       "      <td>5</td>\n",
       "      <td>Chef Anton's Gumbo Mix</td>\n",
       "      <td>2</td>\n",
       "      <td>2</td>\n",
       "      <td>36 boxes</td>\n",
       "      <td>21.35</td>\n",
       "      <td>0</td>\n",
       "      <td>0</td>\n",
       "      <td>0</td>\n",
       "      <td>1</td>\n",
       "    </tr>\n",
       "  </tbody>\n",
       "</table>\n",
       "</div>"
      ],
      "text/plain": [
       "   Id                   ProductName  SupplierId  CategoryId  \\\n",
       "0   1                          Chai           1           1   \n",
       "1   2                         Chang           1           1   \n",
       "2   3                 Aniseed Syrup           1           2   \n",
       "3   4  Chef Anton's Cajun Seasoning           2           2   \n",
       "4   5        Chef Anton's Gumbo Mix           2           2   \n",
       "\n",
       "       QuantityPerUnit  UnitPrice  UnitsInStock  UnitsOnOrder  ReorderLevel  \\\n",
       "0   10 boxes x 20 bags      18.00            39             0            10   \n",
       "1   24 - 12 oz bottles      19.00            17            40            25   \n",
       "2  12 - 550 ml bottles      10.00            13            70            25   \n",
       "3       48 - 6 oz jars      22.00            53             0             0   \n",
       "4             36 boxes      21.35             0             0             0   \n",
       "\n",
       "   Discontinued  \n",
       "0             0  \n",
       "1             0  \n",
       "2             0  \n",
       "3             0  \n",
       "4             1  "
      ]
     },
     "execution_count": 10,
     "metadata": {},
     "output_type": "execute_result"
    }
   ],
   "source": [
    "q = '''SELECT * FROM Product''' #simple query\n",
    "df_product = pd.read_sql_query(q, engine) #puts the information from the query into a dataframe\n",
    "df_product.head()"
   ]
  },
  {
   "cell_type": "markdown",
   "metadata": {},
   "source": [
    "Fantasic, now lets start flushing out answers to those inital questions\n",
    "\n",
    "## How much of what are we selling?"
   ]
  },
  {
   "cell_type": "markdown",
   "metadata": {},
   "source": [
    "Lets check the Product table and the Order Detail table"
   ]
  },
  {
   "cell_type": "code",
   "execution_count": 11,
   "metadata": {},
   "outputs": [
    {
     "name": "stdout",
     "output_type": "stream",
     "text": [
      "Table Name: Product \n",
      "\n",
      "Id  ||PRIMARY KEY||  dtype: INTEGER\n",
      "ProductName     dtype: VARCHAR(8000)\n",
      "SupplierId     dtype: INTEGER\n",
      "CategoryId     dtype: INTEGER\n",
      "QuantityPerUnit     dtype: VARCHAR(8000)\n",
      "UnitPrice     dtype: DECIMAL\n",
      "UnitsInStock     dtype: INTEGER\n",
      "UnitsOnOrder     dtype: INTEGER\n",
      "ReorderLevel     dtype: INTEGER\n",
      "Discontinued     dtype: INTEGER\n",
      "None\n",
      "2019-01-26 10:19:11,936 INFO sqlalchemy.engine.base.Engine PRAGMA table_info(\"OrderDetail\")\n",
      "2019-01-26 10:19:11,937 INFO sqlalchemy.engine.base.Engine ()\n",
      "Table Name: OrderDetail \n",
      "\n",
      "Id  ||PRIMARY KEY||  dtype: VARCHAR(8000)\n",
      "OrderId     dtype: INTEGER\n",
      "ProductId     dtype: INTEGER\n",
      "UnitPrice     dtype: DECIMAL\n",
      "Quantity     dtype: INTEGER\n",
      "Discount     dtype: FLOAT\n",
      "None\n",
      "2019-01-26 10:19:11,941 INFO sqlalchemy.engine.base.Engine PRAGMA table_info(\"Category\")\n",
      "2019-01-26 10:19:11,943 INFO sqlalchemy.engine.base.Engine ()\n",
      "Table Name: Category \n",
      "\n",
      "Id  ||PRIMARY KEY||  dtype: INTEGER\n",
      "CategoryName     dtype: VARCHAR(8000)\n",
      "Description     dtype: VARCHAR(8000)\n",
      "None\n"
     ]
    }
   ],
   "source": [
    "print(get_column_info('Product'))\n",
    "print(get_column_info('OrderDetail'))\n",
    "print(get_column_info('Category'))"
   ]
  },
  {
   "cell_type": "markdown",
   "metadata": {},
   "source": [
    "Looks like the table is ERD is wrong again. Some of the tables are incorrectly stated i.e. ProductID is just Id"
   ]
  },
  {
   "cell_type": "code",
   "execution_count": 259,
   "metadata": {},
   "outputs": [
    {
     "name": "stdout",
     "output_type": "stream",
     "text": [
      "2019-01-26 16:07:37,638 INFO sqlalchemy.engine.base.Engine SELECT p.ProductName, c.CategoryName, SUM(o.Quantity) num_ordered FROM Product p LEFT JOIN OrderDetail o ON o.ProductId = p.Id LEFT JOIN Category c ON c.Id = p.CategoryId GROUP BY p.ProductName ORDER BY num_ordered DESC\n",
      "2019-01-26 16:07:37,639 INFO sqlalchemy.engine.base.Engine ()\n"
     ]
    },
    {
     "data": {
      "text/html": [
       "<div>\n",
       "<style scoped>\n",
       "    .dataframe tbody tr th:only-of-type {\n",
       "        vertical-align: middle;\n",
       "    }\n",
       "\n",
       "    .dataframe tbody tr th {\n",
       "        vertical-align: top;\n",
       "    }\n",
       "\n",
       "    .dataframe thead th {\n",
       "        text-align: right;\n",
       "    }\n",
       "</style>\n",
       "<table border=\"1\" class=\"dataframe\">\n",
       "  <thead>\n",
       "    <tr style=\"text-align: right;\">\n",
       "      <th></th>\n",
       "      <th>ProductName</th>\n",
       "      <th>CategoryName</th>\n",
       "      <th>num_ordered</th>\n",
       "    </tr>\n",
       "  </thead>\n",
       "  <tbody>\n",
       "    <tr>\n",
       "      <th>0</th>\n",
       "      <td>Camembert Pierrot</td>\n",
       "      <td>Dairy Products</td>\n",
       "      <td>1577</td>\n",
       "    </tr>\n",
       "    <tr>\n",
       "      <th>1</th>\n",
       "      <td>Raclette Courdavault</td>\n",
       "      <td>Dairy Products</td>\n",
       "      <td>1496</td>\n",
       "    </tr>\n",
       "    <tr>\n",
       "      <th>2</th>\n",
       "      <td>Gorgonzola Telino</td>\n",
       "      <td>Dairy Products</td>\n",
       "      <td>1397</td>\n",
       "    </tr>\n",
       "    <tr>\n",
       "      <th>3</th>\n",
       "      <td>Gnocchi di nonna Alice</td>\n",
       "      <td>Grains/Cereals</td>\n",
       "      <td>1263</td>\n",
       "    </tr>\n",
       "    <tr>\n",
       "      <th>4</th>\n",
       "      <td>Pavlova</td>\n",
       "      <td>Confections</td>\n",
       "      <td>1158</td>\n",
       "    </tr>\n",
       "  </tbody>\n",
       "</table>\n",
       "</div>"
      ],
      "text/plain": [
       "              ProductName    CategoryName  num_ordered\n",
       "0       Camembert Pierrot  Dairy Products         1577\n",
       "1    Raclette Courdavault  Dairy Products         1496\n",
       "2       Gorgonzola Telino  Dairy Products         1397\n",
       "3  Gnocchi di nonna Alice  Grains/Cereals         1263\n",
       "4                 Pavlova     Confections         1158"
      ]
     },
     "execution_count": 259,
     "metadata": {},
     "output_type": "execute_result"
    }
   ],
   "source": [
    "q='''SELECT p.ProductName, c.CategoryName, SUM(o.Quantity) num_ordered \\\n",
    "FROM Product p \\\n",
    "LEFT JOIN OrderDetail o ON o.ProductId = p.Id \\\n",
    "LEFT JOIN Category c ON c.Id = p.CategoryId \\\n",
    "GROUP BY p.ProductName ORDER BY num_ordered DESC'''\n",
    "df1 = pd.read_sql_query(q, engine)\n",
    "df1.head()"
   ]
  },
  {
   "cell_type": "code",
   "execution_count": 260,
   "metadata": {},
   "outputs": [
    {
     "data": {
      "text/plain": [
       "Confections       13\n",
       "Seafood           12\n",
       "Condiments        12\n",
       "Beverages         12\n",
       "Dairy Products    10\n",
       "Grains/Cereals     7\n",
       "Meat/Poultry       6\n",
       "Produce            5\n",
       "Name: CategoryName, dtype: int64"
      ]
     },
     "execution_count": 260,
     "metadata": {},
     "output_type": "execute_result"
    }
   ],
   "source": [
    "df1.CategoryName.value_counts()"
   ]
  },
  {
   "cell_type": "markdown",
   "metadata": {},
   "source": [
    "So looks like confections is the kind of food we have the most orders for.\n",
    "\n",
    "## Who are our main suppliers?"
   ]
  },
  {
   "cell_type": "code",
   "execution_count": 14,
   "metadata": {},
   "outputs": [
    {
     "name": "stdout",
     "output_type": "stream",
     "text": [
      "2019-01-26 10:19:12,004 INFO sqlalchemy.engine.base.Engine PRAGMA table_info(\"Order\")\n",
      "2019-01-26 10:19:12,005 INFO sqlalchemy.engine.base.Engine ()\n",
      "Table Name: Order \n",
      "\n",
      "Id  ||PRIMARY KEY||  dtype: INTEGER\n",
      "CustomerId     dtype: VARCHAR(8000)\n",
      "EmployeeId     dtype: INTEGER\n",
      "OrderDate     dtype: VARCHAR(8000)\n",
      "RequiredDate     dtype: VARCHAR(8000)\n",
      "ShippedDate     dtype: VARCHAR(8000)\n",
      "ShipVia     dtype: INTEGER\n",
      "Freight     dtype: DECIMAL\n",
      "ShipName     dtype: VARCHAR(8000)\n",
      "ShipAddress     dtype: VARCHAR(8000)\n",
      "ShipCity     dtype: VARCHAR(8000)\n",
      "ShipRegion     dtype: VARCHAR(8000)\n",
      "ShipPostalCode     dtype: VARCHAR(8000)\n",
      "ShipCountry     dtype: VARCHAR(8000)\n",
      "None\n",
      "Table Name: Supplier \n",
      "\n",
      "Id  ||PRIMARY KEY||  dtype: INTEGER\n",
      "CompanyName     dtype: VARCHAR(8000)\n",
      "ContactName     dtype: VARCHAR(8000)\n",
      "ContactTitle     dtype: VARCHAR(8000)\n",
      "Address     dtype: VARCHAR(8000)\n",
      "City     dtype: VARCHAR(8000)\n",
      "Region     dtype: VARCHAR(8000)\n",
      "PostalCode     dtype: VARCHAR(8000)\n",
      "Country     dtype: VARCHAR(8000)\n",
      "Phone     dtype: VARCHAR(8000)\n",
      "Fax     dtype: VARCHAR(8000)\n",
      "HomePage     dtype: VARCHAR(8000)\n",
      "None\n"
     ]
    }
   ],
   "source": [
    "print(get_column_info('Order'))\n",
    "print(get_column_info('Supplier'))"
   ]
  },
  {
   "cell_type": "code",
   "execution_count": 15,
   "metadata": {},
   "outputs": [
    {
     "name": "stdout",
     "output_type": "stream",
     "text": [
      "2019-01-26 10:19:12,019 INFO sqlalchemy.engine.base.Engine SELECT s.CompanyName, s.Region, COUNT(*) num_of_orders FROM [Order] o LEFT JOIN OrderDetail od ON o.Id = od.OrderId LEFT JOIN Product p ON od.ProductId = p.Id LEFT JOIN Supplier s ON p.SupplierId = s.Id GROUP BY s.CompanyName ORDER BY num_of_orders DESC\n",
      "2019-01-26 10:19:12,019 INFO sqlalchemy.engine.base.Engine ()\n"
     ]
    },
    {
     "data": {
      "text/html": [
       "<div>\n",
       "<style scoped>\n",
       "    .dataframe tbody tr th:only-of-type {\n",
       "        vertical-align: middle;\n",
       "    }\n",
       "\n",
       "    .dataframe tbody tr th {\n",
       "        vertical-align: top;\n",
       "    }\n",
       "\n",
       "    .dataframe thead th {\n",
       "        text-align: right;\n",
       "    }\n",
       "</style>\n",
       "<table border=\"1\" class=\"dataframe\">\n",
       "  <thead>\n",
       "    <tr style=\"text-align: right;\">\n",
       "      <th></th>\n",
       "      <th>CompanyName</th>\n",
       "      <th>Region</th>\n",
       "      <th>num_of_orders</th>\n",
       "    </tr>\n",
       "  </thead>\n",
       "  <tbody>\n",
       "    <tr>\n",
       "      <th>0</th>\n",
       "      <td>Plutzer Lebensmittelgroßmärkte AG</td>\n",
       "      <td>Western Europe</td>\n",
       "      <td>179</td>\n",
       "    </tr>\n",
       "    <tr>\n",
       "      <th>1</th>\n",
       "      <td>Pavlova, Ltd.</td>\n",
       "      <td>Victoria</td>\n",
       "      <td>163</td>\n",
       "    </tr>\n",
       "    <tr>\n",
       "      <th>2</th>\n",
       "      <td>Specialty Biscuits, Ltd.</td>\n",
       "      <td>British Isles</td>\n",
       "      <td>126</td>\n",
       "    </tr>\n",
       "    <tr>\n",
       "      <th>3</th>\n",
       "      <td>Gai pâturage</td>\n",
       "      <td>Western Europe</td>\n",
       "      <td>105</td>\n",
       "    </tr>\n",
       "    <tr>\n",
       "      <th>4</th>\n",
       "      <td>Norske Meierier</td>\n",
       "      <td>Scandinavia</td>\n",
       "      <td>105</td>\n",
       "    </tr>\n",
       "  </tbody>\n",
       "</table>\n",
       "</div>"
      ],
      "text/plain": [
       "                         CompanyName          Region  num_of_orders\n",
       "0  Plutzer Lebensmittelgroßmärkte AG  Western Europe            179\n",
       "1                      Pavlova, Ltd.        Victoria            163\n",
       "2           Specialty Biscuits, Ltd.   British Isles            126\n",
       "3                       Gai pâturage  Western Europe            105\n",
       "4                    Norske Meierier     Scandinavia            105"
      ]
     },
     "execution_count": 15,
     "metadata": {},
     "output_type": "execute_result"
    }
   ],
   "source": [
    "q = '''SELECT s.CompanyName, s.Region, COUNT(*) num_of_orders FROM [Order] o \\\n",
    "LEFT JOIN OrderDetail od ON o.Id = od.OrderId \\\n",
    "LEFT JOIN Product p ON od.ProductId = p.Id \\\n",
    "LEFT JOIN Supplier s ON p.SupplierId = s.Id \\\n",
    "GROUP BY s.CompanyName \\\n",
    "ORDER BY num_of_orders DESC'''\n",
    "\n",
    "df2 = pd.read_sql_query(q, engine)\n",
    "df2.head()"
   ]
  },
  {
   "cell_type": "code",
   "execution_count": 16,
   "metadata": {},
   "outputs": [
    {
     "data": {
      "text/plain": [
       "(Western Europe     6\n",
       " North America      6\n",
       " Northern Europe    4\n",
       " Southern Europe    3\n",
       " British Isles      2\n",
       " Scandinavia        2\n",
       " Eastern Asia       2\n",
       " Victoria           1\n",
       " South America      1\n",
       " NSW                1\n",
       " South-East Asia    1\n",
       " Name: Region, dtype: int64, 74.3103448275862)"
      ]
     },
     "execution_count": 16,
     "metadata": {},
     "output_type": "execute_result"
    }
   ],
   "source": [
    "df2.Region.value_counts(), df2.num_of_orders.mean()"
   ]
  },
  {
   "cell_type": "markdown",
   "metadata": {},
   "source": [
    "The largest amount of orders come from Western Europe and it is one of the largest portion of our supply chain.\n",
    "\n",
    "## What does our customer base look like?"
   ]
  },
  {
   "cell_type": "code",
   "execution_count": 17,
   "metadata": {},
   "outputs": [
    {
     "name": "stdout",
     "output_type": "stream",
     "text": [
      "2019-01-26 10:19:12,063 INFO sqlalchemy.engine.base.Engine PRAGMA table_info(\"CustomerDemographic\")\n",
      "2019-01-26 10:19:12,064 INFO sqlalchemy.engine.base.Engine ()\n",
      "Table Name: CustomerDemographic \n",
      "\n",
      "Id  ||PRIMARY KEY||  dtype: VARCHAR(8000)\n",
      "CustomerDesc     dtype: VARCHAR(8000)\n",
      "None\n",
      "2019-01-26 10:19:12,069 INFO sqlalchemy.engine.base.Engine PRAGMA table_info(\"Customer\")\n",
      "2019-01-26 10:19:12,070 INFO sqlalchemy.engine.base.Engine ()\n",
      "Table Name: Customer \n",
      "\n",
      "Id  ||PRIMARY KEY||  dtype: VARCHAR(8000)\n",
      "CompanyName     dtype: VARCHAR(8000)\n",
      "ContactName     dtype: VARCHAR(8000)\n",
      "ContactTitle     dtype: VARCHAR(8000)\n",
      "Address     dtype: VARCHAR(8000)\n",
      "City     dtype: VARCHAR(8000)\n",
      "Region     dtype: VARCHAR(8000)\n",
      "PostalCode     dtype: VARCHAR(8000)\n",
      "Country     dtype: VARCHAR(8000)\n",
      "Phone     dtype: VARCHAR(8000)\n",
      "Fax     dtype: VARCHAR(8000)\n",
      "None\n",
      "2019-01-26 10:19:12,072 INFO sqlalchemy.engine.base.Engine PRAGMA table_info(\"CustomerCustomerDemo\")\n",
      "2019-01-26 10:19:12,072 INFO sqlalchemy.engine.base.Engine ()\n",
      "Table Name: CustomerCustomerDemo \n",
      "\n",
      "Id  ||PRIMARY KEY||  dtype: VARCHAR(8000)\n",
      "CustomerTypeId     dtype: VARCHAR(8000)\n",
      "None\n"
     ]
    }
   ],
   "source": [
    "print(get_column_info('CustomerDemographic'))\n",
    "print(get_column_info('Customer'))\n",
    "print(get_column_info('CustomerCustomerDemo'))"
   ]
  },
  {
   "cell_type": "code",
   "execution_count": 18,
   "metadata": {},
   "outputs": [
    {
     "name": "stdout",
     "output_type": "stream",
     "text": [
      "2019-01-26 10:19:12,084 INFO sqlalchemy.engine.base.Engine SELECT * FROM CustomerCustomerDemo\n",
      "2019-01-26 10:19:12,085 INFO sqlalchemy.engine.base.Engine ()\n"
     ]
    },
    {
     "data": {
      "text/html": [
       "<div>\n",
       "<style scoped>\n",
       "    .dataframe tbody tr th:only-of-type {\n",
       "        vertical-align: middle;\n",
       "    }\n",
       "\n",
       "    .dataframe tbody tr th {\n",
       "        vertical-align: top;\n",
       "    }\n",
       "\n",
       "    .dataframe thead th {\n",
       "        text-align: right;\n",
       "    }\n",
       "</style>\n",
       "<table border=\"1\" class=\"dataframe\">\n",
       "  <thead>\n",
       "    <tr style=\"text-align: right;\">\n",
       "      <th></th>\n",
       "      <th>Id</th>\n",
       "      <th>CustomerTypeId</th>\n",
       "    </tr>\n",
       "  </thead>\n",
       "  <tbody>\n",
       "  </tbody>\n",
       "</table>\n",
       "</div>"
      ],
      "text/plain": [
       "Empty DataFrame\n",
       "Columns: [Id, CustomerTypeId]\n",
       "Index: []"
      ]
     },
     "execution_count": 18,
     "metadata": {},
     "output_type": "execute_result"
    }
   ],
   "source": [
    "q = '''SELECT * FROM CustomerCustomerDemo'''\n",
    "\n",
    "df3 = pd.read_sql_query(q, engine)\n",
    "df3"
   ]
  },
  {
   "cell_type": "markdown",
   "metadata": {},
   "source": [
    "It looks like `CustomerCustomerDemo` is an empty table. This must be a new table or something went wrong. That means the only customer data I have to look at will from the customer table. Another ticket I need to submit."
   ]
  },
  {
   "cell_type": "code",
   "execution_count": 19,
   "metadata": {},
   "outputs": [
    {
     "name": "stdout",
     "output_type": "stream",
     "text": [
      "2019-01-26 10:19:12,105 INFO sqlalchemy.engine.base.Engine SELECT ContactTitle, Count(*) num_of_types FROM Customer  GROUP BY ContactTitle  ORDER BY num_of_types DESC\n",
      "2019-01-26 10:19:12,106 INFO sqlalchemy.engine.base.Engine ()\n"
     ]
    },
    {
     "data": {
      "text/html": [
       "<div>\n",
       "<style scoped>\n",
       "    .dataframe tbody tr th:only-of-type {\n",
       "        vertical-align: middle;\n",
       "    }\n",
       "\n",
       "    .dataframe tbody tr th {\n",
       "        vertical-align: top;\n",
       "    }\n",
       "\n",
       "    .dataframe thead th {\n",
       "        text-align: right;\n",
       "    }\n",
       "</style>\n",
       "<table border=\"1\" class=\"dataframe\">\n",
       "  <thead>\n",
       "    <tr style=\"text-align: right;\">\n",
       "      <th></th>\n",
       "      <th>ContactTitle</th>\n",
       "      <th>num_of_types</th>\n",
       "    </tr>\n",
       "  </thead>\n",
       "  <tbody>\n",
       "    <tr>\n",
       "      <th>0</th>\n",
       "      <td>Owner</td>\n",
       "      <td>17</td>\n",
       "    </tr>\n",
       "    <tr>\n",
       "      <th>1</th>\n",
       "      <td>Sales Representative</td>\n",
       "      <td>17</td>\n",
       "    </tr>\n",
       "    <tr>\n",
       "      <th>2</th>\n",
       "      <td>Marketing Manager</td>\n",
       "      <td>12</td>\n",
       "    </tr>\n",
       "    <tr>\n",
       "      <th>3</th>\n",
       "      <td>Sales Manager</td>\n",
       "      <td>11</td>\n",
       "    </tr>\n",
       "    <tr>\n",
       "      <th>4</th>\n",
       "      <td>Accounting Manager</td>\n",
       "      <td>10</td>\n",
       "    </tr>\n",
       "  </tbody>\n",
       "</table>\n",
       "</div>"
      ],
      "text/plain": [
       "           ContactTitle  num_of_types\n",
       "0                 Owner            17\n",
       "1  Sales Representative            17\n",
       "2     Marketing Manager            12\n",
       "3         Sales Manager            11\n",
       "4    Accounting Manager            10"
      ]
     },
     "execution_count": 19,
     "metadata": {},
     "output_type": "execute_result"
    }
   ],
   "source": [
    "q = '''SELECT ContactTitle, Count(*) num_of_types \\\n",
    "FROM Customer  \\\n",
    "GROUP BY ContactTitle  \\\n",
    "ORDER BY num_of_types DESC'''\n",
    "\n",
    "df4 = pd.read_sql_query(q, engine)\n",
    "df4.head()"
   ]
  },
  {
   "cell_type": "code",
   "execution_count": 212,
   "metadata": {},
   "outputs": [
    {
     "name": "stdout",
     "output_type": "stream",
     "text": [
      "2019-01-26 15:14:56,557 INFO sqlalchemy.engine.base.Engine SELECT Region, Count(*) num_of_customers FROM Customer  GROUP BY Region  ORDER BY num_of_customers DESC\n",
      "2019-01-26 15:14:56,558 INFO sqlalchemy.engine.base.Engine ()\n"
     ]
    },
    {
     "data": {
      "text/html": [
       "<div>\n",
       "<style scoped>\n",
       "    .dataframe tbody tr th:only-of-type {\n",
       "        vertical-align: middle;\n",
       "    }\n",
       "\n",
       "    .dataframe tbody tr th {\n",
       "        vertical-align: top;\n",
       "    }\n",
       "\n",
       "    .dataframe thead th {\n",
       "        text-align: right;\n",
       "    }\n",
       "</style>\n",
       "<table border=\"1\" class=\"dataframe\">\n",
       "  <thead>\n",
       "    <tr style=\"text-align: right;\">\n",
       "      <th></th>\n",
       "      <th>Region</th>\n",
       "      <th>num_of_customers</th>\n",
       "    </tr>\n",
       "  </thead>\n",
       "  <tbody>\n",
       "    <tr>\n",
       "      <th>0</th>\n",
       "      <td>Western Europe</td>\n",
       "      <td>28</td>\n",
       "    </tr>\n",
       "    <tr>\n",
       "      <th>1</th>\n",
       "      <td>North America</td>\n",
       "      <td>16</td>\n",
       "    </tr>\n",
       "    <tr>\n",
       "      <th>2</th>\n",
       "      <td>South America</td>\n",
       "      <td>16</td>\n",
       "    </tr>\n",
       "    <tr>\n",
       "      <th>3</th>\n",
       "      <td>Southern Europe</td>\n",
       "      <td>10</td>\n",
       "    </tr>\n",
       "    <tr>\n",
       "      <th>4</th>\n",
       "      <td>British Isles</td>\n",
       "      <td>8</td>\n",
       "    </tr>\n",
       "    <tr>\n",
       "      <th>5</th>\n",
       "      <td>Central America</td>\n",
       "      <td>5</td>\n",
       "    </tr>\n",
       "    <tr>\n",
       "      <th>6</th>\n",
       "      <td>Northern Europe</td>\n",
       "      <td>4</td>\n",
       "    </tr>\n",
       "    <tr>\n",
       "      <th>7</th>\n",
       "      <td>Scandinavia</td>\n",
       "      <td>3</td>\n",
       "    </tr>\n",
       "    <tr>\n",
       "      <th>8</th>\n",
       "      <td>Eastern Europe</td>\n",
       "      <td>1</td>\n",
       "    </tr>\n",
       "  </tbody>\n",
       "</table>\n",
       "</div>"
      ],
      "text/plain": [
       "            Region  num_of_customers\n",
       "0   Western Europe                28\n",
       "1    North America                16\n",
       "2    South America                16\n",
       "3  Southern Europe                10\n",
       "4    British Isles                 8\n",
       "5  Central America                 5\n",
       "6  Northern Europe                 4\n",
       "7      Scandinavia                 3\n",
       "8   Eastern Europe                 1"
      ]
     },
     "execution_count": 212,
     "metadata": {},
     "output_type": "execute_result"
    }
   ],
   "source": [
    "q = '''SELECT Region, Count(*) num_of_customers \\\n",
    "FROM Customer  \\\n",
    "GROUP BY Region  \\\n",
    "ORDER BY num_of_customers DESC'''\n",
    "\n",
    "df5 = pd.read_sql_query(q, engine)\n",
    "df5"
   ]
  },
  {
   "cell_type": "markdown",
   "metadata": {},
   "source": [
    "It is good to see our supplier network lines up with our supply chain. Also intriguing to see what are the title of our contacts. Now finally to answer our last question.\n",
    "\n",
    "## What is the geographical spread of our workforce?"
   ]
  },
  {
   "cell_type": "code",
   "execution_count": 21,
   "metadata": {},
   "outputs": [
    {
     "name": "stdout",
     "output_type": "stream",
     "text": [
      "2019-01-26 10:19:12,153 INFO sqlalchemy.engine.base.Engine PRAGMA table_info(\"Territory\")\n",
      "2019-01-26 10:19:12,154 INFO sqlalchemy.engine.base.Engine ()\n",
      "Table Name: Territory \n",
      "\n",
      "Id  ||PRIMARY KEY||  dtype: VARCHAR(8000)\n",
      "TerritoryDescription     dtype: VARCHAR(8000)\n",
      "RegionId     dtype: INTEGER\n",
      "None\n",
      "2019-01-26 10:19:12,156 INFO sqlalchemy.engine.base.Engine PRAGMA table_info(\"Region\")\n",
      "2019-01-26 10:19:12,156 INFO sqlalchemy.engine.base.Engine ()\n",
      "Table Name: Region \n",
      "\n",
      "Id  ||PRIMARY KEY||  dtype: INTEGER\n",
      "RegionDescription     dtype: VARCHAR(8000)\n",
      "None\n",
      "2019-01-26 10:19:12,159 INFO sqlalchemy.engine.base.Engine PRAGMA table_info(\"EmployeeTerritory\")\n",
      "2019-01-26 10:19:12,160 INFO sqlalchemy.engine.base.Engine ()\n",
      "Table Name: EmployeeTerritory \n",
      "\n",
      "Id  ||PRIMARY KEY||  dtype: VARCHAR(8000)\n",
      "EmployeeId     dtype: INTEGER\n",
      "TerritoryId     dtype: VARCHAR(8000)\n",
      "None\n",
      "Table Name: Employee \n",
      "\n",
      "Id  ||PRIMARY KEY||  dtype: INTEGER\n",
      "LastName     dtype: VARCHAR(8000)\n",
      "FirstName     dtype: VARCHAR(8000)\n",
      "Title     dtype: VARCHAR(8000)\n",
      "TitleOfCourtesy     dtype: VARCHAR(8000)\n",
      "BirthDate     dtype: VARCHAR(8000)\n",
      "HireDate     dtype: VARCHAR(8000)\n",
      "Address     dtype: VARCHAR(8000)\n",
      "City     dtype: VARCHAR(8000)\n",
      "Region     dtype: VARCHAR(8000)\n",
      "PostalCode     dtype: VARCHAR(8000)\n",
      "Country     dtype: VARCHAR(8000)\n",
      "HomePhone     dtype: VARCHAR(8000)\n",
      "Extension     dtype: VARCHAR(8000)\n",
      "Photo     dtype: BLOB\n",
      "Notes     dtype: VARCHAR(8000)\n",
      "ReportsTo     dtype: INTEGER\n",
      "PhotoPath     dtype: VARCHAR(8000)\n",
      "None\n"
     ]
    }
   ],
   "source": [
    "print(get_column_info('Territory'))\n",
    "print(get_column_info('Region'))\n",
    "print(get_column_info('EmployeeTerritory'))\n",
    "print(get_column_info('Employee'))"
   ]
  },
  {
   "cell_type": "code",
   "execution_count": 22,
   "metadata": {},
   "outputs": [
    {
     "name": "stdout",
     "output_type": "stream",
     "text": [
      "2019-01-26 10:19:12,173 INFO sqlalchemy.engine.base.Engine SELECT e.LastName, e.Title, e.Region as based_from, r.RegionDescription FROM Employee e LEFT JOIN EmployeeTerritory et ON e.Id = et.EmployeeId LEFT JOIN Territory t ON et.TerritoryId = t.Id LEFT JOIN Region r ON t.RegionId = r.Id GROUP BY e.LastName ORDER BY e.Title\n",
      "2019-01-26 10:19:12,173 INFO sqlalchemy.engine.base.Engine ()\n"
     ]
    },
    {
     "data": {
      "text/html": [
       "<div>\n",
       "<style scoped>\n",
       "    .dataframe tbody tr th:only-of-type {\n",
       "        vertical-align: middle;\n",
       "    }\n",
       "\n",
       "    .dataframe tbody tr th {\n",
       "        vertical-align: top;\n",
       "    }\n",
       "\n",
       "    .dataframe thead th {\n",
       "        text-align: right;\n",
       "    }\n",
       "</style>\n",
       "<table border=\"1\" class=\"dataframe\">\n",
       "  <thead>\n",
       "    <tr style=\"text-align: right;\">\n",
       "      <th></th>\n",
       "      <th>LastName</th>\n",
       "      <th>Title</th>\n",
       "      <th>based_from</th>\n",
       "      <th>RegionDescription</th>\n",
       "    </tr>\n",
       "  </thead>\n",
       "  <tbody>\n",
       "    <tr>\n",
       "      <th>0</th>\n",
       "      <td>Callahan</td>\n",
       "      <td>Inside Sales Coordinator</td>\n",
       "      <td>North America</td>\n",
       "      <td>Northern</td>\n",
       "    </tr>\n",
       "    <tr>\n",
       "      <th>1</th>\n",
       "      <td>Buchanan</td>\n",
       "      <td>Sales Manager</td>\n",
       "      <td>British Isles</td>\n",
       "      <td>Eastern</td>\n",
       "    </tr>\n",
       "    <tr>\n",
       "      <th>2</th>\n",
       "      <td>Davolio</td>\n",
       "      <td>Sales Representative</td>\n",
       "      <td>North America</td>\n",
       "      <td>Eastern</td>\n",
       "    </tr>\n",
       "    <tr>\n",
       "      <th>3</th>\n",
       "      <td>Dodsworth</td>\n",
       "      <td>Sales Representative</td>\n",
       "      <td>British Isles</td>\n",
       "      <td>Northern</td>\n",
       "    </tr>\n",
       "    <tr>\n",
       "      <th>4</th>\n",
       "      <td>King</td>\n",
       "      <td>Sales Representative</td>\n",
       "      <td>British Isles</td>\n",
       "      <td>Western</td>\n",
       "    </tr>\n",
       "    <tr>\n",
       "      <th>5</th>\n",
       "      <td>Leverling</td>\n",
       "      <td>Sales Representative</td>\n",
       "      <td>North America</td>\n",
       "      <td>Southern</td>\n",
       "    </tr>\n",
       "    <tr>\n",
       "      <th>6</th>\n",
       "      <td>Peacock</td>\n",
       "      <td>Sales Representative</td>\n",
       "      <td>North America</td>\n",
       "      <td>Eastern</td>\n",
       "    </tr>\n",
       "    <tr>\n",
       "      <th>7</th>\n",
       "      <td>Suyama</td>\n",
       "      <td>Sales Representative</td>\n",
       "      <td>British Isles</td>\n",
       "      <td>Western</td>\n",
       "    </tr>\n",
       "    <tr>\n",
       "      <th>8</th>\n",
       "      <td>Fuller</td>\n",
       "      <td>Vice President, Sales</td>\n",
       "      <td>North America</td>\n",
       "      <td>Eastern</td>\n",
       "    </tr>\n",
       "  </tbody>\n",
       "</table>\n",
       "</div>"
      ],
      "text/plain": [
       "    LastName                     Title     based_from RegionDescription\n",
       "0   Callahan  Inside Sales Coordinator  North America          Northern\n",
       "1   Buchanan             Sales Manager  British Isles           Eastern\n",
       "2    Davolio      Sales Representative  North America           Eastern\n",
       "3  Dodsworth      Sales Representative  British Isles          Northern\n",
       "4       King      Sales Representative  British Isles           Western\n",
       "5  Leverling      Sales Representative  North America          Southern\n",
       "6    Peacock      Sales Representative  North America           Eastern\n",
       "7     Suyama      Sales Representative  British Isles           Western\n",
       "8     Fuller     Vice President, Sales  North America           Eastern"
      ]
     },
     "execution_count": 22,
     "metadata": {},
     "output_type": "execute_result"
    }
   ],
   "source": [
    "q = '''SELECT e.LastName, e.Title, e.Region as based_from, r.RegionDescription FROM Employee e \\\n",
    "LEFT JOIN EmployeeTerritory et ON e.Id = et.EmployeeId \\\n",
    "LEFT JOIN Territory t ON et.TerritoryId = t.Id \\\n",
    "LEFT JOIN Region r ON t.RegionId = r.Id \\\n",
    "GROUP BY e.LastName \\\n",
    "ORDER BY e.Title'''\n",
    "\n",
    "df6 = pd.read_sql_query(q, engine)\n",
    "df6"
   ]
  },
  {
   "cell_type": "markdown",
   "metadata": {},
   "source": [
    "It is unclear what \"RegionDescription\" from the `Region` table represents. I will need to do talk to one of the database engineers when they get back for some clearification.\n",
    "\n",
    "So now we have a breif overview of the company, we can start some hypothesis testing.\n",
    "___\n",
    "___\n",
    "# Hypothesis Testing\n",
    "___\n",
    "___"
   ]
  },
  {
   "cell_type": "markdown",
   "metadata": {},
   "source": [
    "## 1) Do discounts have a statistically significant effect on the number of products customers order? If so, at what level(s) of discount?\n",
    "\n",
    "This was the one objective that I was given to solve using this database. I will gather the population metrics ($\\mu, \\sigma$) form the total number of products ordered. Then I will break up the orders into two groups (items with discount and items without a discount) and compare the two groups. For the hypothesis testing, I plan on using a one tailed test. People who plan on ordering a product won't order a smaller quantity soley becuase it cost less; therefore, there is little logic in using a two tailed test. \n",
    "  \n",
    "If there is a significant result, I will further test out if there is a level of discount that sells more products.  \n",
    "\n",
    "$H_{o}$: There is no difference in the numer of prodcuts customers order given there is a discount  \n",
    "$H_{\\alpha}$: There is an increase in the number of prodcuts customers order given there is a discount  \n",
    "$\\alpha = .05$"
   ]
  },
  {
   "cell_type": "code",
   "execution_count": 242,
   "metadata": {},
   "outputs": [
    {
     "name": "stdout",
     "output_type": "stream",
     "text": [
      "2019-01-26 15:37:34,903 INFO sqlalchemy.engine.base.Engine SELECT OrderId, ProductId, Discount FROM OrderDetail\n",
      "2019-01-26 15:37:34,903 INFO sqlalchemy.engine.base.Engine ()\n"
     ]
    },
    {
     "data": {
      "text/html": [
       "<div>\n",
       "<style scoped>\n",
       "    .dataframe tbody tr th:only-of-type {\n",
       "        vertical-align: middle;\n",
       "    }\n",
       "\n",
       "    .dataframe tbody tr th {\n",
       "        vertical-align: top;\n",
       "    }\n",
       "\n",
       "    .dataframe thead th {\n",
       "        text-align: right;\n",
       "    }\n",
       "</style>\n",
       "<table border=\"1\" class=\"dataframe\">\n",
       "  <thead>\n",
       "    <tr style=\"text-align: right;\">\n",
       "      <th></th>\n",
       "      <th>OrderId</th>\n",
       "      <th>ProductId</th>\n",
       "      <th>Discount</th>\n",
       "    </tr>\n",
       "  </thead>\n",
       "  <tbody>\n",
       "    <tr>\n",
       "      <th>0</th>\n",
       "      <td>10248</td>\n",
       "      <td>11</td>\n",
       "      <td>0.00</td>\n",
       "    </tr>\n",
       "    <tr>\n",
       "      <th>1</th>\n",
       "      <td>10248</td>\n",
       "      <td>42</td>\n",
       "      <td>0.00</td>\n",
       "    </tr>\n",
       "    <tr>\n",
       "      <th>2</th>\n",
       "      <td>10248</td>\n",
       "      <td>72</td>\n",
       "      <td>0.00</td>\n",
       "    </tr>\n",
       "    <tr>\n",
       "      <th>3</th>\n",
       "      <td>10249</td>\n",
       "      <td>14</td>\n",
       "      <td>0.00</td>\n",
       "    </tr>\n",
       "    <tr>\n",
       "      <th>4</th>\n",
       "      <td>10249</td>\n",
       "      <td>51</td>\n",
       "      <td>0.00</td>\n",
       "    </tr>\n",
       "    <tr>\n",
       "      <th>5</th>\n",
       "      <td>10250</td>\n",
       "      <td>41</td>\n",
       "      <td>0.00</td>\n",
       "    </tr>\n",
       "    <tr>\n",
       "      <th>6</th>\n",
       "      <td>10250</td>\n",
       "      <td>51</td>\n",
       "      <td>0.15</td>\n",
       "    </tr>\n",
       "    <tr>\n",
       "      <th>7</th>\n",
       "      <td>10250</td>\n",
       "      <td>65</td>\n",
       "      <td>0.15</td>\n",
       "    </tr>\n",
       "    <tr>\n",
       "      <th>8</th>\n",
       "      <td>10251</td>\n",
       "      <td>22</td>\n",
       "      <td>0.05</td>\n",
       "    </tr>\n",
       "    <tr>\n",
       "      <th>9</th>\n",
       "      <td>10251</td>\n",
       "      <td>57</td>\n",
       "      <td>0.05</td>\n",
       "    </tr>\n",
       "    <tr>\n",
       "      <th>10</th>\n",
       "      <td>10251</td>\n",
       "      <td>65</td>\n",
       "      <td>0.00</td>\n",
       "    </tr>\n",
       "    <tr>\n",
       "      <th>11</th>\n",
       "      <td>10252</td>\n",
       "      <td>20</td>\n",
       "      <td>0.05</td>\n",
       "    </tr>\n",
       "    <tr>\n",
       "      <th>12</th>\n",
       "      <td>10252</td>\n",
       "      <td>33</td>\n",
       "      <td>0.05</td>\n",
       "    </tr>\n",
       "    <tr>\n",
       "      <th>13</th>\n",
       "      <td>10252</td>\n",
       "      <td>60</td>\n",
       "      <td>0.00</td>\n",
       "    </tr>\n",
       "    <tr>\n",
       "      <th>14</th>\n",
       "      <td>10253</td>\n",
       "      <td>31</td>\n",
       "      <td>0.00</td>\n",
       "    </tr>\n",
       "  </tbody>\n",
       "</table>\n",
       "</div>"
      ],
      "text/plain": [
       "    OrderId  ProductId  Discount\n",
       "0     10248         11      0.00\n",
       "1     10248         42      0.00\n",
       "2     10248         72      0.00\n",
       "3     10249         14      0.00\n",
       "4     10249         51      0.00\n",
       "5     10250         41      0.00\n",
       "6     10250         51      0.15\n",
       "7     10250         65      0.15\n",
       "8     10251         22      0.05\n",
       "9     10251         57      0.05\n",
       "10    10251         65      0.00\n",
       "11    10252         20      0.05\n",
       "12    10252         33      0.05\n",
       "13    10252         60      0.00\n",
       "14    10253         31      0.00"
      ]
     },
     "execution_count": 242,
     "metadata": {},
     "output_type": "execute_result"
    }
   ],
   "source": [
    "q = '''SELECT OrderId, ProductId, Discount FROM OrderDetail'''\n",
    "\n",
    "df = pd.read_sql_query(q, engine)\n",
    "df.head(15)"
   ]
  },
  {
   "cell_type": "markdown",
   "metadata": {},
   "source": [
    "It looks like when Northwind Traders gives a discount to an order, it doesn't always apply across the whole order. That means I have to reorganize my data."
   ]
  },
  {
   "cell_type": "code",
   "execution_count": 238,
   "metadata": {},
   "outputs": [
    {
     "data": {
      "text/html": [
       "<div>\n",
       "<style scoped>\n",
       "    .dataframe tbody tr th:only-of-type {\n",
       "        vertical-align: middle;\n",
       "    }\n",
       "\n",
       "    .dataframe tbody tr th {\n",
       "        vertical-align: top;\n",
       "    }\n",
       "\n",
       "    .dataframe thead th {\n",
       "        text-align: right;\n",
       "    }\n",
       "</style>\n",
       "<table border=\"1\" class=\"dataframe\">\n",
       "  <thead>\n",
       "    <tr style=\"text-align: right;\">\n",
       "      <th></th>\n",
       "      <th>0</th>\n",
       "      <th>1</th>\n",
       "    </tr>\n",
       "  </thead>\n",
       "  <tbody>\n",
       "    <tr>\n",
       "      <th>10248</th>\n",
       "      <td>3</td>\n",
       "      <td>0.00</td>\n",
       "    </tr>\n",
       "    <tr>\n",
       "      <th>10249</th>\n",
       "      <td>2</td>\n",
       "      <td>0.00</td>\n",
       "    </tr>\n",
       "    <tr>\n",
       "      <th>10250</th>\n",
       "      <td>3</td>\n",
       "      <td>0.15</td>\n",
       "    </tr>\n",
       "    <tr>\n",
       "      <th>10251</th>\n",
       "      <td>3</td>\n",
       "      <td>0.05</td>\n",
       "    </tr>\n",
       "    <tr>\n",
       "      <th>10252</th>\n",
       "      <td>3</td>\n",
       "      <td>0.05</td>\n",
       "    </tr>\n",
       "  </tbody>\n",
       "</table>\n",
       "</div>"
      ],
      "text/plain": [
       "       0     1\n",
       "10248  3  0.00\n",
       "10249  2  0.00\n",
       "10250  3  0.15\n",
       "10251  3  0.05\n",
       "10252  3  0.05"
      ]
     },
     "execution_count": 238,
     "metadata": {},
     "output_type": "execute_result"
    }
   ],
   "source": [
    "order_nums = orders.OrderId.unique() #Gives the unique order number\n",
    "\n",
    "\n",
    "#The below uses dictionary comprehension to create a dictionary that I will transform into a dataframe\n",
    "#I matched the order number to orginal df. It counts how many rows/products made in that order.\n",
    "#Then I found the max value of the discount rows\n",
    "dict_for_df = {num : [len(df[df.OrderId == num]), df.Discount[df.OrderId == num].max()] for num in order_nums}\n",
    "\n",
    "df_order = pd.DataFrame.from_dict(dict_for_df, orient='index') #orient=index makes the keys of the dict be the index\n",
    "\n",
    "df_order.head()"
   ]
  },
  {
   "cell_type": "code",
   "execution_count": 239,
   "metadata": {},
   "outputs": [
    {
     "data": {
      "text/html": [
       "<div>\n",
       "<style scoped>\n",
       "    .dataframe tbody tr th:only-of-type {\n",
       "        vertical-align: middle;\n",
       "    }\n",
       "\n",
       "    .dataframe tbody tr th {\n",
       "        vertical-align: top;\n",
       "    }\n",
       "\n",
       "    .dataframe thead th {\n",
       "        text-align: right;\n",
       "    }\n",
       "</style>\n",
       "<table border=\"1\" class=\"dataframe\">\n",
       "  <thead>\n",
       "    <tr style=\"text-align: right;\">\n",
       "      <th></th>\n",
       "      <th>id</th>\n",
       "      <th>num_of_items</th>\n",
       "      <th>lvl_of_disc</th>\n",
       "    </tr>\n",
       "  </thead>\n",
       "  <tbody>\n",
       "    <tr>\n",
       "      <th>0</th>\n",
       "      <td>10248</td>\n",
       "      <td>3</td>\n",
       "      <td>0.00</td>\n",
       "    </tr>\n",
       "    <tr>\n",
       "      <th>1</th>\n",
       "      <td>10249</td>\n",
       "      <td>2</td>\n",
       "      <td>0.00</td>\n",
       "    </tr>\n",
       "    <tr>\n",
       "      <th>2</th>\n",
       "      <td>10250</td>\n",
       "      <td>3</td>\n",
       "      <td>0.15</td>\n",
       "    </tr>\n",
       "    <tr>\n",
       "      <th>3</th>\n",
       "      <td>10251</td>\n",
       "      <td>3</td>\n",
       "      <td>0.05</td>\n",
       "    </tr>\n",
       "    <tr>\n",
       "      <th>4</th>\n",
       "      <td>10252</td>\n",
       "      <td>3</td>\n",
       "      <td>0.05</td>\n",
       "    </tr>\n",
       "  </tbody>\n",
       "</table>\n",
       "</div>"
      ],
      "text/plain": [
       "      id  num_of_items  lvl_of_disc\n",
       "0  10248             3         0.00\n",
       "1  10249             2         0.00\n",
       "2  10250             3         0.15\n",
       "3  10251             3         0.05\n",
       "4  10252             3         0.05"
      ]
     },
     "execution_count": 239,
     "metadata": {},
     "output_type": "execute_result"
    }
   ],
   "source": [
    "df_order.reset_index(inplace=True) #reset the index, but keeping the orginal one in a new column\n",
    "df_order.columns = ['id', 'num_of_items', 'lvl_of_disc'] #renaming to what they are\n",
    "df_order.head()"
   ]
  },
  {
   "cell_type": "code",
   "execution_count": 240,
   "metadata": {},
   "outputs": [
    {
     "data": {
      "text/plain": [
       "(830, 3)"
      ]
     },
     "execution_count": 240,
     "metadata": {},
     "output_type": "execute_result"
    }
   ],
   "source": [
    "df_order.shape"
   ]
  },
  {
   "cell_type": "markdown",
   "metadata": {},
   "source": [
    "Now a check to make sure I got everything from the orginal table."
   ]
  },
  {
   "cell_type": "code",
   "execution_count": 256,
   "metadata": {},
   "outputs": [
    {
     "data": {
      "text/plain": [
       "True"
      ]
     },
     "execution_count": 256,
     "metadata": {},
     "output_type": "execute_result"
    }
   ],
   "source": [
    "sum(df_order.num_of_items) == len(df)"
   ]
  },
  {
   "cell_type": "markdown",
   "metadata": {},
   "source": [
    "# READY TO RUN TESTS"
   ]
  },
  {
   "cell_type": "code",
   "execution_count": null,
   "metadata": {},
   "outputs": [],
   "source": []
  },
  {
   "cell_type": "markdown",
   "metadata": {},
   "source": [
    "$H_{o} =$ The employees based out of the British Island office generates the same amount renvenue than the North American office.  \n",
    "$H_{\\alpha} =$ The employees based out of the British Island office generates less renvenue than the North American office."
   ]
  },
  {
   "cell_type": "code",
   "execution_count": null,
   "metadata": {},
   "outputs": [],
   "source": []
  },
  {
   "cell_type": "markdown",
   "metadata": {},
   "source": [
    "$H_{o} =$ Having manager in your title, the amount a cusomter orders doesn't change  \n",
    "$H_{\\alpha} =$ Having manager in your title, the amount a customer orders increases"
   ]
  },
  {
   "cell_type": "code",
   "execution_count": null,
   "metadata": {},
   "outputs": [],
   "source": []
  },
  {
   "cell_type": "markdown",
   "metadata": {},
   "source": [
    "$H_{o} =$ Given the product is perishable, it ships within the same region  \n",
    "$H_{\\alpha} =$ Given the product is perishable, the product ships out of the region "
   ]
  },
  {
   "cell_type": "code",
   "execution_count": null,
   "metadata": {},
   "outputs": [],
   "source": []
  },
  {
   "cell_type": "code",
   "execution_count": null,
   "metadata": {},
   "outputs": [],
   "source": []
  }
 ],
 "metadata": {
  "kernelspec": {
   "display_name": "Python 3",
   "language": "python",
   "name": "python3"
  },
  "language_info": {
   "codemirror_mode": {
    "name": "ipython",
    "version": 3
   },
   "file_extension": ".py",
   "mimetype": "text/x-python",
   "name": "python",
   "nbconvert_exporter": "python",
   "pygments_lexer": "ipython3",
   "version": "3.6.7"
  }
 },
 "nbformat": 4,
 "nbformat_minor": 2
}
