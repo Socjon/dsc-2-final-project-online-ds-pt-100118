{
 "cells": [
  {
   "cell_type": "markdown",
   "metadata": {},
   "source": [
    "# Northwind database\n",
    "\n",
    "Northwind is a company that sells specialty foods. I was given a mandate to  \"__do something with this database__\" as my first project as a new hire. Unfortunatly at the end of last week, the whole computer science division got sick. It was someone's birthday and they all ate bad sheet cake. I wasn't aware those could *actually* go bad.\n",
    "\n",
    "I was able to find a entity-relation diagram for the database but not much else. So to break down this task:\n",
    "1. First I am going to have to explore the database myself to see the basic metrics of the company.\n",
    "2. Then I will use this basic data to formulate some hypotheses concerning some underlying trends.\n",
    "3. Finally I will attempt to test out these ideas to prove myself right or wrong."
   ]
  },
  {
   "cell_type": "markdown",
   "metadata": {},
   "source": [
    "## EDA"
   ]
  },
  {
   "cell_type": "code",
   "execution_count": 131,
   "metadata": {},
   "outputs": [],
   "source": [
    "import sqlalchemy\n",
    "from sqlalchemy import create_engine, inspect\n",
    "from sqlalchemy.orm import Session, sessionmaker #importing libraries I will use. This list has been added as I progressed throughout the notebook\n",
    "\n",
    "import matplotlib.pyplot as plt\n",
    "import numpy as np\n",
    "import pandas as pd\n",
    "import seaborn as sns\n",
    "\n",
    "import statsmodels.api as sm\n",
    "from statsmodels.formula.api import ols\n",
    "from statsmodels.stats.multicomp import pairwise_tukeyhsd\n",
    "from statsmodels.stats.multicomp import MultiComparison\n",
    "\n",
    "from scipy.stats import ttest_1samp, ttest_ind\n",
    "from scipy.stats import levene, shapiro, mannwhitneyu, kruskal\n",
    "\n",
    "plt.style.use('ggplot')"
   ]
  },
  {
   "cell_type": "code",
   "execution_count": 54,
   "metadata": {},
   "outputs": [
    {
     "name": "stdout",
     "output_type": "stream",
     "text": [
      "2019-01-30 11:33:35,510 INFO sqlalchemy.engine.base.Engine SELECT CAST('test plain returns' AS VARCHAR(60)) AS anon_1\n",
      "2019-01-30 11:33:35,511 INFO sqlalchemy.engine.base.Engine ()\n",
      "2019-01-30 11:33:35,513 INFO sqlalchemy.engine.base.Engine SELECT CAST('test unicode returns' AS VARCHAR(60)) AS anon_1\n",
      "2019-01-30 11:33:35,513 INFO sqlalchemy.engine.base.Engine ()\n",
      "2019-01-30 11:33:35,515 INFO sqlalchemy.engine.base.Engine SELECT name FROM sqlite_master WHERE type='table' ORDER BY name\n",
      "2019-01-30 11:33:35,515 INFO sqlalchemy.engine.base.Engine ()\n"
     ]
    },
    {
     "data": {
      "text/plain": [
       "['Category',\n",
       " 'Customer',\n",
       " 'CustomerCustomerDemo',\n",
       " 'CustomerDemographic',\n",
       " 'Employee',\n",
       " 'EmployeeTerritory',\n",
       " 'Order',\n",
       " 'OrderDetail',\n",
       " 'Product',\n",
       " 'Region',\n",
       " 'Shipper',\n",
       " 'Supplier',\n",
       " 'Territory']"
      ]
     },
     "execution_count": 54,
     "metadata": {},
     "output_type": "execute_result"
    }
   ],
   "source": [
    "#engine = create_engine('sqlite:///Northwind_large.sqlite', echo=True)\n",
    "engine = create_engine('sqlite:///Northwind_small.sqlite', echo=True)\n",
    "Session = sessionmaker(bind=engine)\n",
    "session = Session()\n",
    "\n",
    "inspector = inspect(engine) #checking the ERD against the actual database\n",
    "inspector.get_table_names()"
   ]
  },
  {
   "cell_type": "markdown",
   "metadata": {},
   "source": [
    "So found my first discrepancy, most the table names are stated as singular while the ERD have them as plural.  \n",
    "  \n",
    "I will submit a ticket to the deparment to fix this when they get back."
   ]
  },
  {
   "cell_type": "code",
   "execution_count": 55,
   "metadata": {},
   "outputs": [
    {
     "name": "stdout",
     "output_type": "stream",
     "text": [
      "2019-01-30 11:33:35,529 INFO sqlalchemy.engine.base.Engine PRAGMA table_info(\"Product\")\n",
      "2019-01-30 11:33:35,530 INFO sqlalchemy.engine.base.Engine ()\n"
     ]
    },
    {
     "data": {
      "text/plain": [
       "[{'name': 'Id',\n",
       "  'type': INTEGER(),\n",
       "  'nullable': True,\n",
       "  'default': None,\n",
       "  'autoincrement': 'auto',\n",
       "  'primary_key': 1},\n",
       " {'name': 'ProductName',\n",
       "  'type': VARCHAR(length=8000),\n",
       "  'nullable': True,\n",
       "  'default': None,\n",
       "  'autoincrement': 'auto',\n",
       "  'primary_key': 0},\n",
       " {'name': 'SupplierId',\n",
       "  'type': INTEGER(),\n",
       "  'nullable': False,\n",
       "  'default': None,\n",
       "  'autoincrement': 'auto',\n",
       "  'primary_key': 0},\n",
       " {'name': 'CategoryId',\n",
       "  'type': INTEGER(),\n",
       "  'nullable': False,\n",
       "  'default': None,\n",
       "  'autoincrement': 'auto',\n",
       "  'primary_key': 0},\n",
       " {'name': 'QuantityPerUnit',\n",
       "  'type': VARCHAR(length=8000),\n",
       "  'nullable': True,\n",
       "  'default': None,\n",
       "  'autoincrement': 'auto',\n",
       "  'primary_key': 0},\n",
       " {'name': 'UnitPrice',\n",
       "  'type': DECIMAL(),\n",
       "  'nullable': False,\n",
       "  'default': None,\n",
       "  'autoincrement': 'auto',\n",
       "  'primary_key': 0},\n",
       " {'name': 'UnitsInStock',\n",
       "  'type': INTEGER(),\n",
       "  'nullable': False,\n",
       "  'default': None,\n",
       "  'autoincrement': 'auto',\n",
       "  'primary_key': 0},\n",
       " {'name': 'UnitsOnOrder',\n",
       "  'type': INTEGER(),\n",
       "  'nullable': False,\n",
       "  'default': None,\n",
       "  'autoincrement': 'auto',\n",
       "  'primary_key': 0},\n",
       " {'name': 'ReorderLevel',\n",
       "  'type': INTEGER(),\n",
       "  'nullable': False,\n",
       "  'default': None,\n",
       "  'autoincrement': 'auto',\n",
       "  'primary_key': 0},\n",
       " {'name': 'Discontinued',\n",
       "  'type': INTEGER(),\n",
       "  'nullable': False,\n",
       "  'default': None,\n",
       "  'autoincrement': 'auto',\n",
       "  'primary_key': 0}]"
      ]
     },
     "execution_count": 55,
     "metadata": {},
     "output_type": "execute_result"
    }
   ],
   "source": [
    "inspector.get_columns('Product')"
   ]
  },
  {
   "cell_type": "markdown",
   "metadata": {},
   "source": [
    "A bit messy, I recall a function that I had used previously that I could use to help in cleaning this up."
   ]
  },
  {
   "cell_type": "code",
   "execution_count": 56,
   "metadata": {},
   "outputs": [],
   "source": [
    "def get_column_info(col_name): #quick function based on https://github.com/learn-co-curriculum/dsc-2-13-11-queries-with-sqlalchemy-lab\n",
    "    col_list = inspector.get_columns(col_name)\n",
    "    print(f'Table Name: {col_name} \\n')\n",
    "    \n",
    "    for col in col_list:\n",
    "        if col['primary_key'] == 1:\n",
    "            print(f\"{col['name']}  ||PRIMARY KEY||  dtype: {col['type']}\")\n",
    "        else:\n",
    "            print(f\"{col['name']}     dtype: {col['type']}\")\n",
    "                  "
   ]
  },
  {
   "cell_type": "code",
   "execution_count": 57,
   "metadata": {},
   "outputs": [
    {
     "name": "stdout",
     "output_type": "stream",
     "text": [
      "Table Name: Product \n",
      "\n",
      "Id  ||PRIMARY KEY||  dtype: INTEGER\n",
      "ProductName     dtype: VARCHAR(8000)\n",
      "SupplierId     dtype: INTEGER\n",
      "CategoryId     dtype: INTEGER\n",
      "QuantityPerUnit     dtype: VARCHAR(8000)\n",
      "UnitPrice     dtype: DECIMAL\n",
      "UnitsInStock     dtype: INTEGER\n",
      "UnitsOnOrder     dtype: INTEGER\n",
      "ReorderLevel     dtype: INTEGER\n",
      "Discontinued     dtype: INTEGER\n"
     ]
    }
   ],
   "source": [
    "get_column_info('Product')"
   ]
  },
  {
   "cell_type": "code",
   "execution_count": 58,
   "metadata": {},
   "outputs": [
    {
     "name": "stdout",
     "output_type": "stream",
     "text": [
      "2019-01-30 11:33:35,579 INFO sqlalchemy.engine.base.Engine PRAGMA table_info(\"Employee\")\n",
      "2019-01-30 11:33:35,580 INFO sqlalchemy.engine.base.Engine ()\n",
      "Table Name: Employee \n",
      "\n",
      "Id  ||PRIMARY KEY||  dtype: INTEGER\n",
      "LastName     dtype: VARCHAR(8000)\n",
      "FirstName     dtype: VARCHAR(8000)\n",
      "Title     dtype: VARCHAR(8000)\n",
      "TitleOfCourtesy     dtype: VARCHAR(8000)\n",
      "BirthDate     dtype: VARCHAR(8000)\n",
      "HireDate     dtype: VARCHAR(8000)\n",
      "Address     dtype: VARCHAR(8000)\n",
      "City     dtype: VARCHAR(8000)\n",
      "Region     dtype: VARCHAR(8000)\n",
      "PostalCode     dtype: VARCHAR(8000)\n",
      "Country     dtype: VARCHAR(8000)\n",
      "HomePhone     dtype: VARCHAR(8000)\n",
      "Extension     dtype: VARCHAR(8000)\n",
      "Photo     dtype: BLOB\n",
      "Notes     dtype: VARCHAR(8000)\n",
      "ReportsTo     dtype: INTEGER\n",
      "PhotoPath     dtype: VARCHAR(8000)\n"
     ]
    }
   ],
   "source": [
    "get_column_info('Employee')"
   ]
  },
  {
   "cell_type": "code",
   "execution_count": 59,
   "metadata": {},
   "outputs": [
    {
     "name": "stdout",
     "output_type": "stream",
     "text": [
      "2019-01-30 11:33:35,594 INFO sqlalchemy.engine.base.Engine PRAGMA table_info(\"Supplier\")\n",
      "2019-01-30 11:33:35,595 INFO sqlalchemy.engine.base.Engine ()\n",
      "Table Name: Supplier \n",
      "\n",
      "Id  ||PRIMARY KEY||  dtype: INTEGER\n",
      "CompanyName     dtype: VARCHAR(8000)\n",
      "ContactName     dtype: VARCHAR(8000)\n",
      "ContactTitle     dtype: VARCHAR(8000)\n",
      "Address     dtype: VARCHAR(8000)\n",
      "City     dtype: VARCHAR(8000)\n",
      "Region     dtype: VARCHAR(8000)\n",
      "PostalCode     dtype: VARCHAR(8000)\n",
      "Country     dtype: VARCHAR(8000)\n",
      "Phone     dtype: VARCHAR(8000)\n",
      "Fax     dtype: VARCHAR(8000)\n",
      "HomePage     dtype: VARCHAR(8000)\n"
     ]
    }
   ],
   "source": [
    "get_column_info('Supplier')"
   ]
  },
  {
   "cell_type": "markdown",
   "metadata": {},
   "source": [
    "  \n",
    "So a quick check of the different tables align with the ERD. That is good. But I should be checking out the individual tables before calling them nevertheless, it is good pratice.\n",
    "  \n",
    "Now lets start checking out a few things:\n",
    "- How much of what are we selling?\n",
    "- Who are our main suppliers?\n",
    "- What does our customer base look like?\n",
    "- What is the geographical spread of our workforce?\n",
    "\n",
    "Once we know these things, we will have a broad overview of the business. From there we will investigate any abnormalities or go splunking for underlying trends.\n",
    "___\n",
    "---\n",
    "Now lets make a connect to the engine and make sure it works."
   ]
  },
  {
   "cell_type": "code",
   "execution_count": 60,
   "metadata": {},
   "outputs": [],
   "source": [
    "con = engine.connect() #connecting the engine to be able to make queries"
   ]
  },
  {
   "cell_type": "code",
   "execution_count": 61,
   "metadata": {},
   "outputs": [
    {
     "name": "stdout",
     "output_type": "stream",
     "text": [
      "2019-01-30 11:33:35,626 INFO sqlalchemy.engine.base.Engine SELECT * FROM Product\n",
      "2019-01-30 11:33:35,627 INFO sqlalchemy.engine.base.Engine ()\n"
     ]
    },
    {
     "data": {
      "text/html": [
       "<div>\n",
       "<style scoped>\n",
       "    .dataframe tbody tr th:only-of-type {\n",
       "        vertical-align: middle;\n",
       "    }\n",
       "\n",
       "    .dataframe tbody tr th {\n",
       "        vertical-align: top;\n",
       "    }\n",
       "\n",
       "    .dataframe thead th {\n",
       "        text-align: right;\n",
       "    }\n",
       "</style>\n",
       "<table border=\"1\" class=\"dataframe\">\n",
       "  <thead>\n",
       "    <tr style=\"text-align: right;\">\n",
       "      <th></th>\n",
       "      <th>Id</th>\n",
       "      <th>ProductName</th>\n",
       "      <th>SupplierId</th>\n",
       "      <th>CategoryId</th>\n",
       "      <th>QuantityPerUnit</th>\n",
       "      <th>UnitPrice</th>\n",
       "      <th>UnitsInStock</th>\n",
       "      <th>UnitsOnOrder</th>\n",
       "      <th>ReorderLevel</th>\n",
       "      <th>Discontinued</th>\n",
       "    </tr>\n",
       "  </thead>\n",
       "  <tbody>\n",
       "    <tr>\n",
       "      <th>0</th>\n",
       "      <td>1</td>\n",
       "      <td>Chai</td>\n",
       "      <td>1</td>\n",
       "      <td>1</td>\n",
       "      <td>10 boxes x 20 bags</td>\n",
       "      <td>18.00</td>\n",
       "      <td>39</td>\n",
       "      <td>0</td>\n",
       "      <td>10</td>\n",
       "      <td>0</td>\n",
       "    </tr>\n",
       "    <tr>\n",
       "      <th>1</th>\n",
       "      <td>2</td>\n",
       "      <td>Chang</td>\n",
       "      <td>1</td>\n",
       "      <td>1</td>\n",
       "      <td>24 - 12 oz bottles</td>\n",
       "      <td>19.00</td>\n",
       "      <td>17</td>\n",
       "      <td>40</td>\n",
       "      <td>25</td>\n",
       "      <td>0</td>\n",
       "    </tr>\n",
       "    <tr>\n",
       "      <th>2</th>\n",
       "      <td>3</td>\n",
       "      <td>Aniseed Syrup</td>\n",
       "      <td>1</td>\n",
       "      <td>2</td>\n",
       "      <td>12 - 550 ml bottles</td>\n",
       "      <td>10.00</td>\n",
       "      <td>13</td>\n",
       "      <td>70</td>\n",
       "      <td>25</td>\n",
       "      <td>0</td>\n",
       "    </tr>\n",
       "    <tr>\n",
       "      <th>3</th>\n",
       "      <td>4</td>\n",
       "      <td>Chef Anton's Cajun Seasoning</td>\n",
       "      <td>2</td>\n",
       "      <td>2</td>\n",
       "      <td>48 - 6 oz jars</td>\n",
       "      <td>22.00</td>\n",
       "      <td>53</td>\n",
       "      <td>0</td>\n",
       "      <td>0</td>\n",
       "      <td>0</td>\n",
       "    </tr>\n",
       "    <tr>\n",
       "      <th>4</th>\n",
       "      <td>5</td>\n",
       "      <td>Chef Anton's Gumbo Mix</td>\n",
       "      <td>2</td>\n",
       "      <td>2</td>\n",
       "      <td>36 boxes</td>\n",
       "      <td>21.35</td>\n",
       "      <td>0</td>\n",
       "      <td>0</td>\n",
       "      <td>0</td>\n",
       "      <td>1</td>\n",
       "    </tr>\n",
       "  </tbody>\n",
       "</table>\n",
       "</div>"
      ],
      "text/plain": [
       "   Id                   ProductName  SupplierId  CategoryId  \\\n",
       "0   1                          Chai           1           1   \n",
       "1   2                         Chang           1           1   \n",
       "2   3                 Aniseed Syrup           1           2   \n",
       "3   4  Chef Anton's Cajun Seasoning           2           2   \n",
       "4   5        Chef Anton's Gumbo Mix           2           2   \n",
       "\n",
       "       QuantityPerUnit  UnitPrice  UnitsInStock  UnitsOnOrder  ReorderLevel  \\\n",
       "0   10 boxes x 20 bags      18.00            39             0            10   \n",
       "1   24 - 12 oz bottles      19.00            17            40            25   \n",
       "2  12 - 550 ml bottles      10.00            13            70            25   \n",
       "3       48 - 6 oz jars      22.00            53             0             0   \n",
       "4             36 boxes      21.35             0             0             0   \n",
       "\n",
       "   Discontinued  \n",
       "0             0  \n",
       "1             0  \n",
       "2             0  \n",
       "3             0  \n",
       "4             1  "
      ]
     },
     "execution_count": 61,
     "metadata": {},
     "output_type": "execute_result"
    }
   ],
   "source": [
    "q = '''SELECT * FROM Product''' #simple query\n",
    "df_product = pd.read_sql_query(q, engine) #puts the information from the query into a dataframe\n",
    "df_product.head()"
   ]
  },
  {
   "cell_type": "markdown",
   "metadata": {},
   "source": [
    "Fantasic, now lets start flushing out answers to those inital questions\n",
    "\n",
    "## How much of what are we selling?"
   ]
  },
  {
   "cell_type": "markdown",
   "metadata": {},
   "source": [
    "Lets check the Product table and the Order Detail table"
   ]
  },
  {
   "cell_type": "code",
   "execution_count": 62,
   "metadata": {},
   "outputs": [
    {
     "name": "stdout",
     "output_type": "stream",
     "text": [
      "Table Name: Product \n",
      "\n",
      "Id  ||PRIMARY KEY||  dtype: INTEGER\n",
      "ProductName     dtype: VARCHAR(8000)\n",
      "SupplierId     dtype: INTEGER\n",
      "CategoryId     dtype: INTEGER\n",
      "QuantityPerUnit     dtype: VARCHAR(8000)\n",
      "UnitPrice     dtype: DECIMAL\n",
      "UnitsInStock     dtype: INTEGER\n",
      "UnitsOnOrder     dtype: INTEGER\n",
      "ReorderLevel     dtype: INTEGER\n",
      "Discontinued     dtype: INTEGER\n",
      "None\n",
      "2019-01-30 11:33:35,649 INFO sqlalchemy.engine.base.Engine PRAGMA table_info(\"OrderDetail\")\n",
      "2019-01-30 11:33:35,650 INFO sqlalchemy.engine.base.Engine ()\n",
      "Table Name: OrderDetail \n",
      "\n",
      "Id  ||PRIMARY KEY||  dtype: VARCHAR(8000)\n",
      "OrderId     dtype: INTEGER\n",
      "ProductId     dtype: INTEGER\n",
      "UnitPrice     dtype: DECIMAL\n",
      "Quantity     dtype: INTEGER\n",
      "Discount     dtype: FLOAT\n",
      "None\n",
      "2019-01-30 11:33:35,653 INFO sqlalchemy.engine.base.Engine PRAGMA table_info(\"Category\")\n",
      "2019-01-30 11:33:35,653 INFO sqlalchemy.engine.base.Engine ()\n",
      "Table Name: Category \n",
      "\n",
      "Id  ||PRIMARY KEY||  dtype: INTEGER\n",
      "CategoryName     dtype: VARCHAR(8000)\n",
      "Description     dtype: VARCHAR(8000)\n",
      "None\n"
     ]
    }
   ],
   "source": [
    "print(get_column_info('Product'))\n",
    "print(get_column_info('OrderDetail'))\n",
    "print(get_column_info('Category'))"
   ]
  },
  {
   "cell_type": "markdown",
   "metadata": {},
   "source": [
    "Looks like the table is ERD is wrong again. Some of the tables are incorrectly stated i.e. ProductID is just Id"
   ]
  },
  {
   "cell_type": "code",
   "execution_count": 63,
   "metadata": {},
   "outputs": [
    {
     "name": "stdout",
     "output_type": "stream",
     "text": [
      "2019-01-30 11:33:35,665 INFO sqlalchemy.engine.base.Engine SELECT p.ProductName, c.CategoryName, SUM(o.Quantity) num_ordered FROM Product p LEFT JOIN OrderDetail o ON o.ProductId = p.Id LEFT JOIN Category c ON c.Id = p.CategoryId GROUP BY p.ProductName ORDER BY num_ordered DESC\n",
      "2019-01-30 11:33:35,665 INFO sqlalchemy.engine.base.Engine ()\n"
     ]
    },
    {
     "data": {
      "text/html": [
       "<div>\n",
       "<style scoped>\n",
       "    .dataframe tbody tr th:only-of-type {\n",
       "        vertical-align: middle;\n",
       "    }\n",
       "\n",
       "    .dataframe tbody tr th {\n",
       "        vertical-align: top;\n",
       "    }\n",
       "\n",
       "    .dataframe thead th {\n",
       "        text-align: right;\n",
       "    }\n",
       "</style>\n",
       "<table border=\"1\" class=\"dataframe\">\n",
       "  <thead>\n",
       "    <tr style=\"text-align: right;\">\n",
       "      <th></th>\n",
       "      <th>ProductName</th>\n",
       "      <th>CategoryName</th>\n",
       "      <th>num_ordered</th>\n",
       "    </tr>\n",
       "  </thead>\n",
       "  <tbody>\n",
       "    <tr>\n",
       "      <th>0</th>\n",
       "      <td>Camembert Pierrot</td>\n",
       "      <td>Dairy Products</td>\n",
       "      <td>1577</td>\n",
       "    </tr>\n",
       "    <tr>\n",
       "      <th>1</th>\n",
       "      <td>Raclette Courdavault</td>\n",
       "      <td>Dairy Products</td>\n",
       "      <td>1496</td>\n",
       "    </tr>\n",
       "    <tr>\n",
       "      <th>2</th>\n",
       "      <td>Gorgonzola Telino</td>\n",
       "      <td>Dairy Products</td>\n",
       "      <td>1397</td>\n",
       "    </tr>\n",
       "    <tr>\n",
       "      <th>3</th>\n",
       "      <td>Gnocchi di nonna Alice</td>\n",
       "      <td>Grains/Cereals</td>\n",
       "      <td>1263</td>\n",
       "    </tr>\n",
       "    <tr>\n",
       "      <th>4</th>\n",
       "      <td>Pavlova</td>\n",
       "      <td>Confections</td>\n",
       "      <td>1158</td>\n",
       "    </tr>\n",
       "  </tbody>\n",
       "</table>\n",
       "</div>"
      ],
      "text/plain": [
       "              ProductName    CategoryName  num_ordered\n",
       "0       Camembert Pierrot  Dairy Products         1577\n",
       "1    Raclette Courdavault  Dairy Products         1496\n",
       "2       Gorgonzola Telino  Dairy Products         1397\n",
       "3  Gnocchi di nonna Alice  Grains/Cereals         1263\n",
       "4                 Pavlova     Confections         1158"
      ]
     },
     "execution_count": 63,
     "metadata": {},
     "output_type": "execute_result"
    }
   ],
   "source": [
    "q='''SELECT p.ProductName, c.CategoryName, SUM(o.Quantity) num_ordered \\\n",
    "FROM Product p \\\n",
    "LEFT JOIN OrderDetail o ON o.ProductId = p.Id \\\n",
    "LEFT JOIN Category c ON c.Id = p.CategoryId \\\n",
    "GROUP BY p.ProductName ORDER BY num_ordered DESC'''\n",
    "df1 = pd.read_sql_query(q, engine)\n",
    "df1.head()"
   ]
  },
  {
   "cell_type": "code",
   "execution_count": 64,
   "metadata": {},
   "outputs": [
    {
     "data": {
      "text/plain": [
       "Confections       13\n",
       "Seafood           12\n",
       "Beverages         12\n",
       "Condiments        12\n",
       "Dairy Products    10\n",
       "Grains/Cereals     7\n",
       "Meat/Poultry       6\n",
       "Produce            5\n",
       "Name: CategoryName, dtype: int64"
      ]
     },
     "execution_count": 64,
     "metadata": {},
     "output_type": "execute_result"
    }
   ],
   "source": [
    "df1.CategoryName.value_counts()"
   ]
  },
  {
   "cell_type": "markdown",
   "metadata": {},
   "source": [
    "So looks like confections is the kind of food we have the most orders for.\n",
    "\n",
    "## Who are our main suppliers?"
   ]
  },
  {
   "cell_type": "code",
   "execution_count": 65,
   "metadata": {},
   "outputs": [
    {
     "name": "stdout",
     "output_type": "stream",
     "text": [
      "2019-01-30 11:33:35,699 INFO sqlalchemy.engine.base.Engine PRAGMA table_info(\"Order\")\n",
      "2019-01-30 11:33:35,700 INFO sqlalchemy.engine.base.Engine ()\n",
      "Table Name: Order \n",
      "\n",
      "Id  ||PRIMARY KEY||  dtype: INTEGER\n",
      "CustomerId     dtype: VARCHAR(8000)\n",
      "EmployeeId     dtype: INTEGER\n",
      "OrderDate     dtype: VARCHAR(8000)\n",
      "RequiredDate     dtype: VARCHAR(8000)\n",
      "ShippedDate     dtype: VARCHAR(8000)\n",
      "ShipVia     dtype: INTEGER\n",
      "Freight     dtype: DECIMAL\n",
      "ShipName     dtype: VARCHAR(8000)\n",
      "ShipAddress     dtype: VARCHAR(8000)\n",
      "ShipCity     dtype: VARCHAR(8000)\n",
      "ShipRegion     dtype: VARCHAR(8000)\n",
      "ShipPostalCode     dtype: VARCHAR(8000)\n",
      "ShipCountry     dtype: VARCHAR(8000)\n",
      "None\n",
      "Table Name: Supplier \n",
      "\n",
      "Id  ||PRIMARY KEY||  dtype: INTEGER\n",
      "CompanyName     dtype: VARCHAR(8000)\n",
      "ContactName     dtype: VARCHAR(8000)\n",
      "ContactTitle     dtype: VARCHAR(8000)\n",
      "Address     dtype: VARCHAR(8000)\n",
      "City     dtype: VARCHAR(8000)\n",
      "Region     dtype: VARCHAR(8000)\n",
      "PostalCode     dtype: VARCHAR(8000)\n",
      "Country     dtype: VARCHAR(8000)\n",
      "Phone     dtype: VARCHAR(8000)\n",
      "Fax     dtype: VARCHAR(8000)\n",
      "HomePage     dtype: VARCHAR(8000)\n",
      "None\n"
     ]
    }
   ],
   "source": [
    "print(get_column_info('Order'))\n",
    "print(get_column_info('Supplier'))"
   ]
  },
  {
   "cell_type": "code",
   "execution_count": 66,
   "metadata": {},
   "outputs": [
    {
     "name": "stdout",
     "output_type": "stream",
     "text": [
      "2019-01-30 11:33:35,715 INFO sqlalchemy.engine.base.Engine SELECT s.CompanyName, s.Region, COUNT(*) num_of_orders FROM [Order] o LEFT JOIN OrderDetail od ON o.Id = od.OrderId LEFT JOIN Product p ON od.ProductId = p.Id LEFT JOIN Supplier s ON p.SupplierId = s.Id GROUP BY s.CompanyName ORDER BY num_of_orders DESC\n",
      "2019-01-30 11:33:35,716 INFO sqlalchemy.engine.base.Engine ()\n"
     ]
    },
    {
     "data": {
      "text/html": [
       "<div>\n",
       "<style scoped>\n",
       "    .dataframe tbody tr th:only-of-type {\n",
       "        vertical-align: middle;\n",
       "    }\n",
       "\n",
       "    .dataframe tbody tr th {\n",
       "        vertical-align: top;\n",
       "    }\n",
       "\n",
       "    .dataframe thead th {\n",
       "        text-align: right;\n",
       "    }\n",
       "</style>\n",
       "<table border=\"1\" class=\"dataframe\">\n",
       "  <thead>\n",
       "    <tr style=\"text-align: right;\">\n",
       "      <th></th>\n",
       "      <th>CompanyName</th>\n",
       "      <th>Region</th>\n",
       "      <th>num_of_orders</th>\n",
       "    </tr>\n",
       "  </thead>\n",
       "  <tbody>\n",
       "    <tr>\n",
       "      <th>0</th>\n",
       "      <td>Plutzer Lebensmittelgroßmärkte AG</td>\n",
       "      <td>Western Europe</td>\n",
       "      <td>179</td>\n",
       "    </tr>\n",
       "    <tr>\n",
       "      <th>1</th>\n",
       "      <td>Pavlova, Ltd.</td>\n",
       "      <td>Victoria</td>\n",
       "      <td>163</td>\n",
       "    </tr>\n",
       "    <tr>\n",
       "      <th>2</th>\n",
       "      <td>Specialty Biscuits, Ltd.</td>\n",
       "      <td>British Isles</td>\n",
       "      <td>126</td>\n",
       "    </tr>\n",
       "    <tr>\n",
       "      <th>3</th>\n",
       "      <td>Gai pâturage</td>\n",
       "      <td>Western Europe</td>\n",
       "      <td>105</td>\n",
       "    </tr>\n",
       "    <tr>\n",
       "      <th>4</th>\n",
       "      <td>Norske Meierier</td>\n",
       "      <td>Scandinavia</td>\n",
       "      <td>105</td>\n",
       "    </tr>\n",
       "  </tbody>\n",
       "</table>\n",
       "</div>"
      ],
      "text/plain": [
       "                         CompanyName          Region  num_of_orders\n",
       "0  Plutzer Lebensmittelgroßmärkte AG  Western Europe            179\n",
       "1                      Pavlova, Ltd.        Victoria            163\n",
       "2           Specialty Biscuits, Ltd.   British Isles            126\n",
       "3                       Gai pâturage  Western Europe            105\n",
       "4                    Norske Meierier     Scandinavia            105"
      ]
     },
     "execution_count": 66,
     "metadata": {},
     "output_type": "execute_result"
    }
   ],
   "source": [
    "q = '''SELECT s.CompanyName, s.Region, COUNT(*) num_of_orders FROM [Order] o \\\n",
    "LEFT JOIN OrderDetail od ON o.Id = od.OrderId \\\n",
    "LEFT JOIN Product p ON od.ProductId = p.Id \\\n",
    "LEFT JOIN Supplier s ON p.SupplierId = s.Id \\\n",
    "GROUP BY s.CompanyName \\\n",
    "ORDER BY num_of_orders DESC'''\n",
    "\n",
    "df2 = pd.read_sql_query(q, engine)\n",
    "df2.head()"
   ]
  },
  {
   "cell_type": "code",
   "execution_count": 67,
   "metadata": {},
   "outputs": [
    {
     "data": {
      "text/plain": [
       "(North America      6\n",
       " Western Europe     6\n",
       " Northern Europe    4\n",
       " Southern Europe    3\n",
       " British Isles      2\n",
       " Eastern Asia       2\n",
       " Scandinavia        2\n",
       " South America      1\n",
       " South-East Asia    1\n",
       " NSW                1\n",
       " Victoria           1\n",
       " Name: Region, dtype: int64, 74.3103448275862)"
      ]
     },
     "execution_count": 67,
     "metadata": {},
     "output_type": "execute_result"
    }
   ],
   "source": [
    "df2.Region.value_counts(), df2.num_of_orders.mean()"
   ]
  },
  {
   "cell_type": "markdown",
   "metadata": {},
   "source": [
    "The largest amount of orders come from Western Europe and it is one of the largest portion of our supply chain.\n",
    "\n",
    "## What does our customer base look like?"
   ]
  },
  {
   "cell_type": "code",
   "execution_count": 68,
   "metadata": {},
   "outputs": [
    {
     "name": "stdout",
     "output_type": "stream",
     "text": [
      "2019-01-30 11:33:35,753 INFO sqlalchemy.engine.base.Engine PRAGMA table_info(\"CustomerDemographic\")\n",
      "2019-01-30 11:33:35,754 INFO sqlalchemy.engine.base.Engine ()\n",
      "Table Name: CustomerDemographic \n",
      "\n",
      "Id  ||PRIMARY KEY||  dtype: VARCHAR(8000)\n",
      "CustomerDesc     dtype: VARCHAR(8000)\n",
      "None\n",
      "2019-01-30 11:33:35,756 INFO sqlalchemy.engine.base.Engine PRAGMA table_info(\"Customer\")\n",
      "2019-01-30 11:33:35,756 INFO sqlalchemy.engine.base.Engine ()\n",
      "Table Name: Customer \n",
      "\n",
      "Id  ||PRIMARY KEY||  dtype: VARCHAR(8000)\n",
      "CompanyName     dtype: VARCHAR(8000)\n",
      "ContactName     dtype: VARCHAR(8000)\n",
      "ContactTitle     dtype: VARCHAR(8000)\n",
      "Address     dtype: VARCHAR(8000)\n",
      "City     dtype: VARCHAR(8000)\n",
      "Region     dtype: VARCHAR(8000)\n",
      "PostalCode     dtype: VARCHAR(8000)\n",
      "Country     dtype: VARCHAR(8000)\n",
      "Phone     dtype: VARCHAR(8000)\n",
      "Fax     dtype: VARCHAR(8000)\n",
      "None\n",
      "2019-01-30 11:33:35,759 INFO sqlalchemy.engine.base.Engine PRAGMA table_info(\"CustomerCustomerDemo\")\n",
      "2019-01-30 11:33:35,759 INFO sqlalchemy.engine.base.Engine ()\n",
      "Table Name: CustomerCustomerDemo \n",
      "\n",
      "Id  ||PRIMARY KEY||  dtype: VARCHAR(8000)\n",
      "CustomerTypeId     dtype: VARCHAR(8000)\n",
      "None\n"
     ]
    }
   ],
   "source": [
    "print(get_column_info('CustomerDemographic'))\n",
    "print(get_column_info('Customer'))\n",
    "print(get_column_info('CustomerCustomerDemo'))"
   ]
  },
  {
   "cell_type": "code",
   "execution_count": 69,
   "metadata": {},
   "outputs": [
    {
     "name": "stdout",
     "output_type": "stream",
     "text": [
      "2019-01-30 11:33:35,769 INFO sqlalchemy.engine.base.Engine SELECT * FROM CustomerCustomerDemo\n",
      "2019-01-30 11:33:35,769 INFO sqlalchemy.engine.base.Engine ()\n"
     ]
    },
    {
     "data": {
      "text/html": [
       "<div>\n",
       "<style scoped>\n",
       "    .dataframe tbody tr th:only-of-type {\n",
       "        vertical-align: middle;\n",
       "    }\n",
       "\n",
       "    .dataframe tbody tr th {\n",
       "        vertical-align: top;\n",
       "    }\n",
       "\n",
       "    .dataframe thead th {\n",
       "        text-align: right;\n",
       "    }\n",
       "</style>\n",
       "<table border=\"1\" class=\"dataframe\">\n",
       "  <thead>\n",
       "    <tr style=\"text-align: right;\">\n",
       "      <th></th>\n",
       "      <th>Id</th>\n",
       "      <th>CustomerTypeId</th>\n",
       "    </tr>\n",
       "  </thead>\n",
       "  <tbody>\n",
       "  </tbody>\n",
       "</table>\n",
       "</div>"
      ],
      "text/plain": [
       "Empty DataFrame\n",
       "Columns: [Id, CustomerTypeId]\n",
       "Index: []"
      ]
     },
     "execution_count": 69,
     "metadata": {},
     "output_type": "execute_result"
    }
   ],
   "source": [
    "q = '''SELECT * FROM CustomerCustomerDemo'''\n",
    "\n",
    "df3 = pd.read_sql_query(q, engine)\n",
    "df3"
   ]
  },
  {
   "cell_type": "markdown",
   "metadata": {},
   "source": [
    "It looks like `CustomerCustomerDemo` is an empty table. This must be a new table or something went wrong. That means the only customer data I have to look at will from the customer table. Another ticket I need to submit."
   ]
  },
  {
   "cell_type": "code",
   "execution_count": 70,
   "metadata": {},
   "outputs": [
    {
     "name": "stdout",
     "output_type": "stream",
     "text": [
      "2019-01-30 11:33:35,787 INFO sqlalchemy.engine.base.Engine SELECT ContactTitle, Count(*) num_of_types FROM Customer  GROUP BY ContactTitle  ORDER BY num_of_types DESC\n",
      "2019-01-30 11:33:35,788 INFO sqlalchemy.engine.base.Engine ()\n"
     ]
    },
    {
     "data": {
      "text/html": [
       "<div>\n",
       "<style scoped>\n",
       "    .dataframe tbody tr th:only-of-type {\n",
       "        vertical-align: middle;\n",
       "    }\n",
       "\n",
       "    .dataframe tbody tr th {\n",
       "        vertical-align: top;\n",
       "    }\n",
       "\n",
       "    .dataframe thead th {\n",
       "        text-align: right;\n",
       "    }\n",
       "</style>\n",
       "<table border=\"1\" class=\"dataframe\">\n",
       "  <thead>\n",
       "    <tr style=\"text-align: right;\">\n",
       "      <th></th>\n",
       "      <th>ContactTitle</th>\n",
       "      <th>num_of_types</th>\n",
       "    </tr>\n",
       "  </thead>\n",
       "  <tbody>\n",
       "    <tr>\n",
       "      <th>0</th>\n",
       "      <td>Owner</td>\n",
       "      <td>17</td>\n",
       "    </tr>\n",
       "    <tr>\n",
       "      <th>1</th>\n",
       "      <td>Sales Representative</td>\n",
       "      <td>17</td>\n",
       "    </tr>\n",
       "    <tr>\n",
       "      <th>2</th>\n",
       "      <td>Marketing Manager</td>\n",
       "      <td>12</td>\n",
       "    </tr>\n",
       "    <tr>\n",
       "      <th>3</th>\n",
       "      <td>Sales Manager</td>\n",
       "      <td>11</td>\n",
       "    </tr>\n",
       "    <tr>\n",
       "      <th>4</th>\n",
       "      <td>Accounting Manager</td>\n",
       "      <td>10</td>\n",
       "    </tr>\n",
       "    <tr>\n",
       "      <th>5</th>\n",
       "      <td>Sales Associate</td>\n",
       "      <td>7</td>\n",
       "    </tr>\n",
       "    <tr>\n",
       "      <th>6</th>\n",
       "      <td>Marketing Assistant</td>\n",
       "      <td>6</td>\n",
       "    </tr>\n",
       "    <tr>\n",
       "      <th>7</th>\n",
       "      <td>Sales Agent</td>\n",
       "      <td>5</td>\n",
       "    </tr>\n",
       "    <tr>\n",
       "      <th>8</th>\n",
       "      <td>Assistant Sales Agent</td>\n",
       "      <td>2</td>\n",
       "    </tr>\n",
       "    <tr>\n",
       "      <th>9</th>\n",
       "      <td>Order Administrator</td>\n",
       "      <td>2</td>\n",
       "    </tr>\n",
       "    <tr>\n",
       "      <th>10</th>\n",
       "      <td>Assistant Sales Representative</td>\n",
       "      <td>1</td>\n",
       "    </tr>\n",
       "    <tr>\n",
       "      <th>11</th>\n",
       "      <td>Owner/Marketing Assistant</td>\n",
       "      <td>1</td>\n",
       "    </tr>\n",
       "  </tbody>\n",
       "</table>\n",
       "</div>"
      ],
      "text/plain": [
       "                      ContactTitle  num_of_types\n",
       "0                            Owner            17\n",
       "1             Sales Representative            17\n",
       "2                Marketing Manager            12\n",
       "3                    Sales Manager            11\n",
       "4               Accounting Manager            10\n",
       "5                  Sales Associate             7\n",
       "6              Marketing Assistant             6\n",
       "7                      Sales Agent             5\n",
       "8            Assistant Sales Agent             2\n",
       "9              Order Administrator             2\n",
       "10  Assistant Sales Representative             1\n",
       "11       Owner/Marketing Assistant             1"
      ]
     },
     "execution_count": 70,
     "metadata": {},
     "output_type": "execute_result"
    }
   ],
   "source": [
    "q = '''SELECT ContactTitle, Count(*) num_of_types \\\n",
    "FROM Customer  \\\n",
    "GROUP BY ContactTitle  \\\n",
    "ORDER BY num_of_types DESC'''\n",
    "\n",
    "df4 = pd.read_sql_query(q, engine)\n",
    "df4"
   ]
  },
  {
   "cell_type": "code",
   "execution_count": 71,
   "metadata": {},
   "outputs": [
    {
     "name": "stdout",
     "output_type": "stream",
     "text": [
      "2019-01-30 11:33:35,806 INFO sqlalchemy.engine.base.Engine SELECT Region, Count(*) num_of_customers FROM Customer  GROUP BY Region  ORDER BY num_of_customers DESC\n",
      "2019-01-30 11:33:35,807 INFO sqlalchemy.engine.base.Engine ()\n"
     ]
    },
    {
     "data": {
      "text/html": [
       "<div>\n",
       "<style scoped>\n",
       "    .dataframe tbody tr th:only-of-type {\n",
       "        vertical-align: middle;\n",
       "    }\n",
       "\n",
       "    .dataframe tbody tr th {\n",
       "        vertical-align: top;\n",
       "    }\n",
       "\n",
       "    .dataframe thead th {\n",
       "        text-align: right;\n",
       "    }\n",
       "</style>\n",
       "<table border=\"1\" class=\"dataframe\">\n",
       "  <thead>\n",
       "    <tr style=\"text-align: right;\">\n",
       "      <th></th>\n",
       "      <th>Region</th>\n",
       "      <th>num_of_customers</th>\n",
       "    </tr>\n",
       "  </thead>\n",
       "  <tbody>\n",
       "    <tr>\n",
       "      <th>0</th>\n",
       "      <td>Western Europe</td>\n",
       "      <td>28</td>\n",
       "    </tr>\n",
       "    <tr>\n",
       "      <th>1</th>\n",
       "      <td>North America</td>\n",
       "      <td>16</td>\n",
       "    </tr>\n",
       "    <tr>\n",
       "      <th>2</th>\n",
       "      <td>South America</td>\n",
       "      <td>16</td>\n",
       "    </tr>\n",
       "    <tr>\n",
       "      <th>3</th>\n",
       "      <td>Southern Europe</td>\n",
       "      <td>10</td>\n",
       "    </tr>\n",
       "    <tr>\n",
       "      <th>4</th>\n",
       "      <td>British Isles</td>\n",
       "      <td>8</td>\n",
       "    </tr>\n",
       "    <tr>\n",
       "      <th>5</th>\n",
       "      <td>Central America</td>\n",
       "      <td>5</td>\n",
       "    </tr>\n",
       "    <tr>\n",
       "      <th>6</th>\n",
       "      <td>Northern Europe</td>\n",
       "      <td>4</td>\n",
       "    </tr>\n",
       "    <tr>\n",
       "      <th>7</th>\n",
       "      <td>Scandinavia</td>\n",
       "      <td>3</td>\n",
       "    </tr>\n",
       "    <tr>\n",
       "      <th>8</th>\n",
       "      <td>Eastern Europe</td>\n",
       "      <td>1</td>\n",
       "    </tr>\n",
       "  </tbody>\n",
       "</table>\n",
       "</div>"
      ],
      "text/plain": [
       "            Region  num_of_customers\n",
       "0   Western Europe                28\n",
       "1    North America                16\n",
       "2    South America                16\n",
       "3  Southern Europe                10\n",
       "4    British Isles                 8\n",
       "5  Central America                 5\n",
       "6  Northern Europe                 4\n",
       "7      Scandinavia                 3\n",
       "8   Eastern Europe                 1"
      ]
     },
     "execution_count": 71,
     "metadata": {},
     "output_type": "execute_result"
    }
   ],
   "source": [
    "q = '''SELECT Region, Count(*) num_of_customers \\\n",
    "FROM Customer  \\\n",
    "GROUP BY Region  \\\n",
    "ORDER BY num_of_customers DESC'''\n",
    "\n",
    "df5 = pd.read_sql_query(q, engine)\n",
    "df5"
   ]
  },
  {
   "cell_type": "markdown",
   "metadata": {},
   "source": [
    "It is good to see our supplier network lines up with our supply chain. Also intriguing to see what are the title of our contacts. Now finally to answer our last question.\n",
    "\n",
    "## What is the geographical spread of our workforce?"
   ]
  },
  {
   "cell_type": "code",
   "execution_count": 72,
   "metadata": {},
   "outputs": [
    {
     "name": "stdout",
     "output_type": "stream",
     "text": [
      "2019-01-30 11:33:35,822 INFO sqlalchemy.engine.base.Engine PRAGMA table_info(\"Territory\")\n",
      "2019-01-30 11:33:35,822 INFO sqlalchemy.engine.base.Engine ()\n",
      "Table Name: Territory \n",
      "\n",
      "Id  ||PRIMARY KEY||  dtype: VARCHAR(8000)\n",
      "TerritoryDescription     dtype: VARCHAR(8000)\n",
      "RegionId     dtype: INTEGER\n",
      "None\n",
      "2019-01-30 11:33:35,824 INFO sqlalchemy.engine.base.Engine PRAGMA table_info(\"Region\")\n",
      "2019-01-30 11:33:35,825 INFO sqlalchemy.engine.base.Engine ()\n",
      "Table Name: Region \n",
      "\n",
      "Id  ||PRIMARY KEY||  dtype: INTEGER\n",
      "RegionDescription     dtype: VARCHAR(8000)\n",
      "None\n",
      "2019-01-30 11:33:35,827 INFO sqlalchemy.engine.base.Engine PRAGMA table_info(\"EmployeeTerritory\")\n",
      "2019-01-30 11:33:35,827 INFO sqlalchemy.engine.base.Engine ()\n",
      "Table Name: EmployeeTerritory \n",
      "\n",
      "Id  ||PRIMARY KEY||  dtype: VARCHAR(8000)\n",
      "EmployeeId     dtype: INTEGER\n",
      "TerritoryId     dtype: VARCHAR(8000)\n",
      "None\n",
      "Table Name: Employee \n",
      "\n",
      "Id  ||PRIMARY KEY||  dtype: INTEGER\n",
      "LastName     dtype: VARCHAR(8000)\n",
      "FirstName     dtype: VARCHAR(8000)\n",
      "Title     dtype: VARCHAR(8000)\n",
      "TitleOfCourtesy     dtype: VARCHAR(8000)\n",
      "BirthDate     dtype: VARCHAR(8000)\n",
      "HireDate     dtype: VARCHAR(8000)\n",
      "Address     dtype: VARCHAR(8000)\n",
      "City     dtype: VARCHAR(8000)\n",
      "Region     dtype: VARCHAR(8000)\n",
      "PostalCode     dtype: VARCHAR(8000)\n",
      "Country     dtype: VARCHAR(8000)\n",
      "HomePhone     dtype: VARCHAR(8000)\n",
      "Extension     dtype: VARCHAR(8000)\n",
      "Photo     dtype: BLOB\n",
      "Notes     dtype: VARCHAR(8000)\n",
      "ReportsTo     dtype: INTEGER\n",
      "PhotoPath     dtype: VARCHAR(8000)\n",
      "None\n"
     ]
    }
   ],
   "source": [
    "print(get_column_info('Territory'))\n",
    "print(get_column_info('Region'))\n",
    "print(get_column_info('EmployeeTerritory'))\n",
    "print(get_column_info('Employee'))"
   ]
  },
  {
   "cell_type": "code",
   "execution_count": 73,
   "metadata": {},
   "outputs": [
    {
     "name": "stdout",
     "output_type": "stream",
     "text": [
      "2019-01-30 11:33:35,837 INFO sqlalchemy.engine.base.Engine SELECT e.LastName, e.Title, e.Region as based_from, r.RegionDescription FROM Employee e LEFT JOIN EmployeeTerritory et ON e.Id = et.EmployeeId LEFT JOIN Territory t ON et.TerritoryId = t.Id LEFT JOIN Region r ON t.RegionId = r.Id GROUP BY e.LastName ORDER BY e.Title\n",
      "2019-01-30 11:33:35,838 INFO sqlalchemy.engine.base.Engine ()\n"
     ]
    },
    {
     "data": {
      "text/html": [
       "<div>\n",
       "<style scoped>\n",
       "    .dataframe tbody tr th:only-of-type {\n",
       "        vertical-align: middle;\n",
       "    }\n",
       "\n",
       "    .dataframe tbody tr th {\n",
       "        vertical-align: top;\n",
       "    }\n",
       "\n",
       "    .dataframe thead th {\n",
       "        text-align: right;\n",
       "    }\n",
       "</style>\n",
       "<table border=\"1\" class=\"dataframe\">\n",
       "  <thead>\n",
       "    <tr style=\"text-align: right;\">\n",
       "      <th></th>\n",
       "      <th>LastName</th>\n",
       "      <th>Title</th>\n",
       "      <th>based_from</th>\n",
       "      <th>RegionDescription</th>\n",
       "    </tr>\n",
       "  </thead>\n",
       "  <tbody>\n",
       "    <tr>\n",
       "      <th>0</th>\n",
       "      <td>Callahan</td>\n",
       "      <td>Inside Sales Coordinator</td>\n",
       "      <td>North America</td>\n",
       "      <td>Northern</td>\n",
       "    </tr>\n",
       "    <tr>\n",
       "      <th>1</th>\n",
       "      <td>Buchanan</td>\n",
       "      <td>Sales Manager</td>\n",
       "      <td>British Isles</td>\n",
       "      <td>Eastern</td>\n",
       "    </tr>\n",
       "    <tr>\n",
       "      <th>2</th>\n",
       "      <td>Davolio</td>\n",
       "      <td>Sales Representative</td>\n",
       "      <td>North America</td>\n",
       "      <td>Eastern</td>\n",
       "    </tr>\n",
       "    <tr>\n",
       "      <th>3</th>\n",
       "      <td>Dodsworth</td>\n",
       "      <td>Sales Representative</td>\n",
       "      <td>British Isles</td>\n",
       "      <td>Northern</td>\n",
       "    </tr>\n",
       "    <tr>\n",
       "      <th>4</th>\n",
       "      <td>King</td>\n",
       "      <td>Sales Representative</td>\n",
       "      <td>British Isles</td>\n",
       "      <td>Western</td>\n",
       "    </tr>\n",
       "    <tr>\n",
       "      <th>5</th>\n",
       "      <td>Leverling</td>\n",
       "      <td>Sales Representative</td>\n",
       "      <td>North America</td>\n",
       "      <td>Southern</td>\n",
       "    </tr>\n",
       "    <tr>\n",
       "      <th>6</th>\n",
       "      <td>Peacock</td>\n",
       "      <td>Sales Representative</td>\n",
       "      <td>North America</td>\n",
       "      <td>Eastern</td>\n",
       "    </tr>\n",
       "    <tr>\n",
       "      <th>7</th>\n",
       "      <td>Suyama</td>\n",
       "      <td>Sales Representative</td>\n",
       "      <td>British Isles</td>\n",
       "      <td>Western</td>\n",
       "    </tr>\n",
       "    <tr>\n",
       "      <th>8</th>\n",
       "      <td>Fuller</td>\n",
       "      <td>Vice President, Sales</td>\n",
       "      <td>North America</td>\n",
       "      <td>Eastern</td>\n",
       "    </tr>\n",
       "  </tbody>\n",
       "</table>\n",
       "</div>"
      ],
      "text/plain": [
       "    LastName                     Title     based_from RegionDescription\n",
       "0   Callahan  Inside Sales Coordinator  North America          Northern\n",
       "1   Buchanan             Sales Manager  British Isles           Eastern\n",
       "2    Davolio      Sales Representative  North America           Eastern\n",
       "3  Dodsworth      Sales Representative  British Isles          Northern\n",
       "4       King      Sales Representative  British Isles           Western\n",
       "5  Leverling      Sales Representative  North America          Southern\n",
       "6    Peacock      Sales Representative  North America           Eastern\n",
       "7     Suyama      Sales Representative  British Isles           Western\n",
       "8     Fuller     Vice President, Sales  North America           Eastern"
      ]
     },
     "execution_count": 73,
     "metadata": {},
     "output_type": "execute_result"
    }
   ],
   "source": [
    "q = '''SELECT e.LastName, e.Title, e.Region as based_from, r.RegionDescription FROM Employee e \\\n",
    "LEFT JOIN EmployeeTerritory et ON e.Id = et.EmployeeId \\\n",
    "LEFT JOIN Territory t ON et.TerritoryId = t.Id \\\n",
    "LEFT JOIN Region r ON t.RegionId = r.Id \\\n",
    "GROUP BY e.LastName \\\n",
    "ORDER BY e.Title'''\n",
    "\n",
    "df6 = pd.read_sql_query(q, engine)\n",
    "df6"
   ]
  },
  {
   "cell_type": "markdown",
   "metadata": {},
   "source": [
    "It is unclear what \"RegionDescription\" from the `Region` table represents. I will need to do talk to one of the database engineers when they get back for some clearification.\n",
    "\n",
    "So now we have a breif overview of the company, we can start some hypothesis testing.\n",
    "___\n",
    "___\n",
    "# Hypothesis Testing\n",
    "1) Do discounts have a statistically significant effect on the number of products customers order? If so, at what level(s) of discount?  \n",
    "2) Is there a difference in the money generated from sales between the North America office and the British Island office?\n",
    "___\n",
    "___"
   ]
  },
  {
   "cell_type": "markdown",
   "metadata": {},
   "source": [
    "## 1) Do discounts have a statistically significant effect on the number of products customers order? If so, at what level(s) of discount?\n",
    "\n",
    "### 1-1 Initial Analysis\n",
    "This was the one objective that I was given to solve using this database. I will gather the population metrics ($\\mu, \\sigma$) form the total number of products ordered. Then I will break up the orders into two groups (items with discount and items without a discount) and compare the two groups. For the hypothesis testing, I plan on using a one tailed test. People who plan on ordering a product won't order a smaller quantity soley becuase it cost less; therefore, there is little logic in using a two tailed test. \n",
    "  \n",
    "If there is a significant result, I will further test out if there is a level of discount that sells more products.  \n",
    "\n",
    "$H_{o}$: There is no difference in the numer of prodcuts customers order given there is a discount  \n",
    "$H_{\\alpha}$: There is an increase in the number of prodcuts customers order given there is a discount  \n",
    "$\\alpha = .05$"
   ]
  },
  {
   "cell_type": "code",
   "execution_count": 74,
   "metadata": {},
   "outputs": [
    {
     "name": "stdout",
     "output_type": "stream",
     "text": [
      "2019-01-30 11:33:35,856 INFO sqlalchemy.engine.base.Engine SELECT OrderId, ProductId, Discount FROM OrderDetail\n",
      "2019-01-30 11:33:35,857 INFO sqlalchemy.engine.base.Engine ()\n"
     ]
    },
    {
     "data": {
      "text/html": [
       "<div>\n",
       "<style scoped>\n",
       "    .dataframe tbody tr th:only-of-type {\n",
       "        vertical-align: middle;\n",
       "    }\n",
       "\n",
       "    .dataframe tbody tr th {\n",
       "        vertical-align: top;\n",
       "    }\n",
       "\n",
       "    .dataframe thead th {\n",
       "        text-align: right;\n",
       "    }\n",
       "</style>\n",
       "<table border=\"1\" class=\"dataframe\">\n",
       "  <thead>\n",
       "    <tr style=\"text-align: right;\">\n",
       "      <th></th>\n",
       "      <th>OrderId</th>\n",
       "      <th>ProductId</th>\n",
       "      <th>Discount</th>\n",
       "    </tr>\n",
       "  </thead>\n",
       "  <tbody>\n",
       "    <tr>\n",
       "      <th>0</th>\n",
       "      <td>10248</td>\n",
       "      <td>11</td>\n",
       "      <td>0.00</td>\n",
       "    </tr>\n",
       "    <tr>\n",
       "      <th>1</th>\n",
       "      <td>10248</td>\n",
       "      <td>42</td>\n",
       "      <td>0.00</td>\n",
       "    </tr>\n",
       "    <tr>\n",
       "      <th>2</th>\n",
       "      <td>10248</td>\n",
       "      <td>72</td>\n",
       "      <td>0.00</td>\n",
       "    </tr>\n",
       "    <tr>\n",
       "      <th>3</th>\n",
       "      <td>10249</td>\n",
       "      <td>14</td>\n",
       "      <td>0.00</td>\n",
       "    </tr>\n",
       "    <tr>\n",
       "      <th>4</th>\n",
       "      <td>10249</td>\n",
       "      <td>51</td>\n",
       "      <td>0.00</td>\n",
       "    </tr>\n",
       "    <tr>\n",
       "      <th>5</th>\n",
       "      <td>10250</td>\n",
       "      <td>41</td>\n",
       "      <td>0.00</td>\n",
       "    </tr>\n",
       "    <tr>\n",
       "      <th>6</th>\n",
       "      <td>10250</td>\n",
       "      <td>51</td>\n",
       "      <td>0.15</td>\n",
       "    </tr>\n",
       "    <tr>\n",
       "      <th>7</th>\n",
       "      <td>10250</td>\n",
       "      <td>65</td>\n",
       "      <td>0.15</td>\n",
       "    </tr>\n",
       "    <tr>\n",
       "      <th>8</th>\n",
       "      <td>10251</td>\n",
       "      <td>22</td>\n",
       "      <td>0.05</td>\n",
       "    </tr>\n",
       "    <tr>\n",
       "      <th>9</th>\n",
       "      <td>10251</td>\n",
       "      <td>57</td>\n",
       "      <td>0.05</td>\n",
       "    </tr>\n",
       "    <tr>\n",
       "      <th>10</th>\n",
       "      <td>10251</td>\n",
       "      <td>65</td>\n",
       "      <td>0.00</td>\n",
       "    </tr>\n",
       "    <tr>\n",
       "      <th>11</th>\n",
       "      <td>10252</td>\n",
       "      <td>20</td>\n",
       "      <td>0.05</td>\n",
       "    </tr>\n",
       "    <tr>\n",
       "      <th>12</th>\n",
       "      <td>10252</td>\n",
       "      <td>33</td>\n",
       "      <td>0.05</td>\n",
       "    </tr>\n",
       "    <tr>\n",
       "      <th>13</th>\n",
       "      <td>10252</td>\n",
       "      <td>60</td>\n",
       "      <td>0.00</td>\n",
       "    </tr>\n",
       "    <tr>\n",
       "      <th>14</th>\n",
       "      <td>10253</td>\n",
       "      <td>31</td>\n",
       "      <td>0.00</td>\n",
       "    </tr>\n",
       "  </tbody>\n",
       "</table>\n",
       "</div>"
      ],
      "text/plain": [
       "    OrderId  ProductId  Discount\n",
       "0     10248         11      0.00\n",
       "1     10248         42      0.00\n",
       "2     10248         72      0.00\n",
       "3     10249         14      0.00\n",
       "4     10249         51      0.00\n",
       "5     10250         41      0.00\n",
       "6     10250         51      0.15\n",
       "7     10250         65      0.15\n",
       "8     10251         22      0.05\n",
       "9     10251         57      0.05\n",
       "10    10251         65      0.00\n",
       "11    10252         20      0.05\n",
       "12    10252         33      0.05\n",
       "13    10252         60      0.00\n",
       "14    10253         31      0.00"
      ]
     },
     "execution_count": 74,
     "metadata": {},
     "output_type": "execute_result"
    }
   ],
   "source": [
    "q = '''SELECT OrderId, ProductId, Discount FROM OrderDetail'''\n",
    "\n",
    "df = pd.read_sql_query(q, engine)\n",
    "df.head(15)#, df.tail(15)"
   ]
  },
  {
   "cell_type": "markdown",
   "metadata": {},
   "source": [
    "It looks like when Northwind Traders gives a discount to an order, it doesn't always apply across the whole order. Nor does the same discount level apply across the whole order. That means I have to reorganize my data."
   ]
  },
  {
   "cell_type": "code",
   "execution_count": 75,
   "metadata": {},
   "outputs": [
    {
     "data": {
      "text/plain": [
       "array([0.  , 0.15, 0.05, 0.2 , 0.25, 0.1 , 0.02, 0.03, 0.04, 0.06, 0.01])"
      ]
     },
     "execution_count": 75,
     "metadata": {},
     "output_type": "execute_result"
    }
   ],
   "source": [
    "df.Discount.unique()"
   ]
  },
  {
   "cell_type": "markdown",
   "metadata": {},
   "source": [
    "Northwind provides discount at a lot of diferent tiers. Grouping by order, I will take the largest amount of discount given. I am hoping this helps me bin the data into managable subsections. Lets see how it looks."
   ]
  },
  {
   "cell_type": "code",
   "execution_count": 76,
   "metadata": {},
   "outputs": [
    {
     "data": {
      "text/html": [
       "<div>\n",
       "<style scoped>\n",
       "    .dataframe tbody tr th:only-of-type {\n",
       "        vertical-align: middle;\n",
       "    }\n",
       "\n",
       "    .dataframe tbody tr th {\n",
       "        vertical-align: top;\n",
       "    }\n",
       "\n",
       "    .dataframe thead th {\n",
       "        text-align: right;\n",
       "    }\n",
       "</style>\n",
       "<table border=\"1\" class=\"dataframe\">\n",
       "  <thead>\n",
       "    <tr style=\"text-align: right;\">\n",
       "      <th></th>\n",
       "      <th>0</th>\n",
       "      <th>1</th>\n",
       "    </tr>\n",
       "  </thead>\n",
       "  <tbody>\n",
       "    <tr>\n",
       "      <th>10248</th>\n",
       "      <td>3</td>\n",
       "      <td>0.00</td>\n",
       "    </tr>\n",
       "    <tr>\n",
       "      <th>10249</th>\n",
       "      <td>2</td>\n",
       "      <td>0.00</td>\n",
       "    </tr>\n",
       "    <tr>\n",
       "      <th>10250</th>\n",
       "      <td>3</td>\n",
       "      <td>0.15</td>\n",
       "    </tr>\n",
       "    <tr>\n",
       "      <th>10251</th>\n",
       "      <td>3</td>\n",
       "      <td>0.05</td>\n",
       "    </tr>\n",
       "    <tr>\n",
       "      <th>10252</th>\n",
       "      <td>3</td>\n",
       "      <td>0.05</td>\n",
       "    </tr>\n",
       "  </tbody>\n",
       "</table>\n",
       "</div>"
      ],
      "text/plain": [
       "       0     1\n",
       "10248  3  0.00\n",
       "10249  2  0.00\n",
       "10250  3  0.15\n",
       "10251  3  0.05\n",
       "10252  3  0.05"
      ]
     },
     "execution_count": 76,
     "metadata": {},
     "output_type": "execute_result"
    }
   ],
   "source": [
    "order_nums = df.OrderId.unique() #Gives the unique order number\n",
    "\n",
    "\n",
    "#The below uses dictionary comprehension to create a dictionary that I will transform into a dataframe\n",
    "#I matched the order number to orginal df. It counts how many rows/products made in that order.\n",
    "#Then I found the max value of the discount given product-wise\n",
    "dict_for_df = {num : [len(df[df.OrderId == num]), df.Discount[df.OrderId == num].max()] for num in order_nums}\n",
    "\n",
    "df_order = pd.DataFrame.from_dict(dict_for_df, orient='index') #orient=index makes the keys of the dict be the index\n",
    "\n",
    "df_order.head()"
   ]
  },
  {
   "cell_type": "code",
   "execution_count": 77,
   "metadata": {},
   "outputs": [
    {
     "data": {
      "text/html": [
       "<div>\n",
       "<style scoped>\n",
       "    .dataframe tbody tr th:only-of-type {\n",
       "        vertical-align: middle;\n",
       "    }\n",
       "\n",
       "    .dataframe tbody tr th {\n",
       "        vertical-align: top;\n",
       "    }\n",
       "\n",
       "    .dataframe thead th {\n",
       "        text-align: right;\n",
       "    }\n",
       "</style>\n",
       "<table border=\"1\" class=\"dataframe\">\n",
       "  <thead>\n",
       "    <tr style=\"text-align: right;\">\n",
       "      <th></th>\n",
       "      <th>id</th>\n",
       "      <th>num_of_items</th>\n",
       "      <th>lvl_of_disc</th>\n",
       "    </tr>\n",
       "  </thead>\n",
       "  <tbody>\n",
       "    <tr>\n",
       "      <th>0</th>\n",
       "      <td>10248</td>\n",
       "      <td>3</td>\n",
       "      <td>0.00</td>\n",
       "    </tr>\n",
       "    <tr>\n",
       "      <th>1</th>\n",
       "      <td>10249</td>\n",
       "      <td>2</td>\n",
       "      <td>0.00</td>\n",
       "    </tr>\n",
       "    <tr>\n",
       "      <th>2</th>\n",
       "      <td>10250</td>\n",
       "      <td>3</td>\n",
       "      <td>0.15</td>\n",
       "    </tr>\n",
       "    <tr>\n",
       "      <th>3</th>\n",
       "      <td>10251</td>\n",
       "      <td>3</td>\n",
       "      <td>0.05</td>\n",
       "    </tr>\n",
       "    <tr>\n",
       "      <th>4</th>\n",
       "      <td>10252</td>\n",
       "      <td>3</td>\n",
       "      <td>0.05</td>\n",
       "    </tr>\n",
       "  </tbody>\n",
       "</table>\n",
       "</div>"
      ],
      "text/plain": [
       "      id  num_of_items  lvl_of_disc\n",
       "0  10248             3         0.00\n",
       "1  10249             2         0.00\n",
       "2  10250             3         0.15\n",
       "3  10251             3         0.05\n",
       "4  10252             3         0.05"
      ]
     },
     "execution_count": 77,
     "metadata": {},
     "output_type": "execute_result"
    }
   ],
   "source": [
    "df_order.reset_index(inplace=True) #reset the index, but keeping the orginal one in a new column\n",
    "df_order.columns = ['id', 'num_of_items', 'lvl_of_disc'] #renaming to what they are\n",
    "df_order.head()"
   ]
  },
  {
   "cell_type": "code",
   "execution_count": 78,
   "metadata": {},
   "outputs": [
    {
     "data": {
      "text/plain": [
       "(830, 3)"
      ]
     },
     "execution_count": 78,
     "metadata": {},
     "output_type": "execute_result"
    }
   ],
   "source": [
    "df_order.shape"
   ]
  },
  {
   "cell_type": "markdown",
   "metadata": {},
   "source": [
    "Now a check to make sure I got everything from the orginal table."
   ]
  },
  {
   "cell_type": "code",
   "execution_count": 79,
   "metadata": {},
   "outputs": [
    {
     "data": {
      "text/plain": [
       "True"
      ]
     },
     "execution_count": 79,
     "metadata": {},
     "output_type": "execute_result"
    }
   ],
   "source": [
    "sum(df_order.num_of_items) == len(df)"
   ]
  },
  {
   "cell_type": "markdown",
   "metadata": {},
   "source": [
    "Now lets take a look at what were the levels of discount offered."
   ]
  },
  {
   "cell_type": "code",
   "execution_count": 80,
   "metadata": {},
   "outputs": [
    {
     "data": {
      "text/plain": [
       "0.00    450\n",
       "0.05     86\n",
       "0.15     75\n",
       "0.10     74\n",
       "0.20     73\n",
       "0.25     72\n",
       "Name: lvl_of_disc, dtype: int64"
      ]
     },
     "execution_count": 80,
     "metadata": {},
     "output_type": "execute_result"
    }
   ],
   "source": [
    "df_order.lvl_of_disc.value_counts()"
   ]
  },
  {
   "cell_type": "markdown",
   "metadata": {},
   "source": [
    "This worked better than I could have hoped. The orders that were given small discounts (1% - 4%) to individual items, all had at least one item that was offered at 5% discount.  \n"
   ]
  },
  {
   "cell_type": "code",
   "execution_count": 81,
   "metadata": {},
   "outputs": [
    {
     "data": {
      "image/png": "[encoded data removed]",
      "text/plain": [
       "<Figure size 864x864 with 1 Axes>"
      ]
     },
     "metadata": {},
     "output_type": "display_data"
    }
   ],
   "source": [
    "plt.figure(figsize=(12,12))\n",
    "sns.violinplot(y='num_of_items',x='lvl_of_disc', data=df_order)\n",
    "plt.title('Violin plots: comparing the shape at different levels of discount')\n",
    "plt.xlabel('Max discount given per order')\n",
    "plt.ylabel('Number of items in order');"
   ]
  },
  {
   "cell_type": "markdown",
   "metadata": {},
   "source": [
    "So there seems to be an outlier at 20% discount. Lets take care of that and move onto testing."
   ]
  },
  {
   "cell_type": "code",
   "execution_count": 82,
   "metadata": {},
   "outputs": [
    {
     "data": {
      "text/plain": [
       "25"
      ]
     },
     "execution_count": 82,
     "metadata": {},
     "output_type": "execute_result"
    }
   ],
   "source": [
    "df_order.num_of_items[df_order.lvl_of_disc == .2].max() #finding the max "
   ]
  },
  {
   "cell_type": "code",
   "execution_count": 83,
   "metadata": {},
   "outputs": [
    {
     "data": {
      "text/plain": [
       "Int64Index([829], dtype='int64')"
      ]
     },
     "execution_count": 83,
     "metadata": {},
     "output_type": "execute_result"
    }
   ],
   "source": [
    "df_order[df_order.num_of_items == 25].index"
   ]
  },
  {
   "cell_type": "code",
   "execution_count": 84,
   "metadata": {},
   "outputs": [],
   "source": [
    "df_order.drop(index=829, inplace=True)"
   ]
  },
  {
   "cell_type": "code",
   "execution_count": 85,
   "metadata": {},
   "outputs": [
    {
     "data": {
      "image/png": "[encoded data removed]",
      "text/plain": [
       "<Figure size 864x864 with 1 Axes>"
      ]
     },
     "metadata": {},
     "output_type": "display_data"
    }
   ],
   "source": [
    "plt.figure(figsize=(12,12))\n",
    "sns.violinplot(y='num_of_items',x='lvl_of_disc', data=df_order)\n",
    "plt.title('Violin plots: comparing the shape at different levels of discount')\n",
    "plt.xlabel('Max discount given per order')\n",
    "plt.ylabel('Number of items in order');"
   ]
  },
  {
   "cell_type": "markdown",
   "metadata": {},
   "source": [
    "### 1-2 Testing\n",
    "\n",
    "Since there are multiple groups (levels of discount), an ANOVA test would be the best choice to use. The ANOVA test will show if there is a signifigant differece between no discount and discount. If there is a signifigant outcome, I plan on using the Tukey HSD (honestly significant difference) test to determine if the relationship between multiple levels of discount are statistically significant. This will be a post hoc test.\n",
    "\n",
    "\n",
    "#### ANOVA\n",
    " \n",
    "Checking the assumptions for an ANOVA testing. The assumptions apply to the residuals and not the variables themselves.\n",
    "- Independence of cases.\n",
    "- Normality of residuals\n",
    "- Equality (or \"homogeneity\") of variances\n",
    "\n",
    "Independence is met. Different orders from different customers meeting different demands. An ANOVA test is based on the F-statistic which is pretty robust and allows us to suspend some of the assumptions given the group sizes are roughly equal. We can verify the assumptions after the test by using the Levene’s or Omnibus test for homogeneity of variances and either the Jarque-Bera or Shapiro tests for Normality. More on this can be found _[here](https://pythonfordatascience.org/anova-python/)_.\n",
    "\n",
    "Reformatting my hypothesis:  \n",
    "$H_{o} : \\mu_{no \\space discount} = \\mu_{discount}$  \n",
    "$H_{\\alpha} : \\mu_{no \\space discount} < \\mu_{discount}$  \n",
    "$\\alpha = 0.05$"
   ]
  },
  {
   "cell_type": "code",
   "execution_count": 86,
   "metadata": {},
   "outputs": [
    {
     "data": {
      "text/html": [
       "<table class=\"simpletable\">\n",
       "<caption>OLS Regression Results</caption>\n",
       "<tr>\n",
       "  <th>Dep. Variable:</th>      <td>num_of_items</td>   <th>  R-squared:         </th> <td>   0.018</td>\n",
       "</tr>\n",
       "<tr>\n",
       "  <th>Model:</th>                   <td>OLS</td>       <th>  Adj. R-squared:    </th> <td>   0.012</td>\n",
       "</tr>\n",
       "<tr>\n",
       "  <th>Method:</th>             <td>Least Squares</td>  <th>  F-statistic:       </th> <td>   3.012</td>\n",
       "</tr>\n",
       "<tr>\n",
       "  <th>Date:</th>             <td>Wed, 30 Jan 2019</td> <th>  Prob (F-statistic):</th>  <td>0.0106</td> \n",
       "</tr>\n",
       "<tr>\n",
       "  <th>Time:</th>                 <td>11:33:37</td>     <th>  Log-Likelihood:    </th> <td> -1230.1</td>\n",
       "</tr>\n",
       "<tr>\n",
       "  <th>No. Observations:</th>      <td>   829</td>      <th>  AIC:               </th> <td>   2472.</td>\n",
       "</tr>\n",
       "<tr>\n",
       "  <th>Df Residuals:</th>          <td>   823</td>      <th>  BIC:               </th> <td>   2501.</td>\n",
       "</tr>\n",
       "<tr>\n",
       "  <th>Df Model:</th>              <td>     5</td>      <th>                     </th>     <td> </td>   \n",
       "</tr>\n",
       "<tr>\n",
       "  <th>Covariance Type:</th>      <td>nonrobust</td>    <th>                     </th>     <td> </td>   \n",
       "</tr>\n",
       "</table>\n",
       "<table class=\"simpletable\">\n",
       "<tr>\n",
       "             <td></td>               <th>coef</th>     <th>std err</th>      <th>t</th>      <th>P>|t|</th>  <th>[0.025</th>    <th>0.975]</th>  \n",
       "</tr>\n",
       "<tr>\n",
       "  <th>Intercept</th>              <td>    2.4667</td> <td>    0.050</td> <td>   48.858</td> <td> 0.000</td> <td>    2.368</td> <td>    2.566</td>\n",
       "</tr>\n",
       "<tr>\n",
       "  <th>C(lvl_of_disc)[T.0.05]</th> <td>    0.0217</td> <td>    0.126</td> <td>    0.172</td> <td> 0.863</td> <td>   -0.226</td> <td>    0.269</td>\n",
       "</tr>\n",
       "<tr>\n",
       "  <th>C(lvl_of_disc)[T.0.1]</th>  <td>    0.4252</td> <td>    0.134</td> <td>    3.165</td> <td> 0.002</td> <td>    0.162</td> <td>    0.689</td>\n",
       "</tr>\n",
       "<tr>\n",
       "  <th>C(lvl_of_disc)[T.0.15]</th> <td>    0.2400</td> <td>    0.134</td> <td>    1.797</td> <td> 0.073</td> <td>   -0.022</td> <td>    0.502</td>\n",
       "</tr>\n",
       "<tr>\n",
       "  <th>C(lvl_of_disc)[T.0.2]</th>  <td>    0.1861</td> <td>    0.136</td> <td>    1.369</td> <td> 0.171</td> <td>   -0.081</td> <td>    0.453</td>\n",
       "</tr>\n",
       "<tr>\n",
       "  <th>C(lvl_of_disc)[T.0.25]</th> <td>    0.2833</td> <td>    0.136</td> <td>    2.084</td> <td> 0.037</td> <td>    0.017</td> <td>    0.550</td>\n",
       "</tr>\n",
       "</table>\n",
       "<table class=\"simpletable\">\n",
       "<tr>\n",
       "  <th>Omnibus:</th>       <td>25.511</td> <th>  Durbin-Watson:     </th> <td>   2.014</td>\n",
       "</tr>\n",
       "<tr>\n",
       "  <th>Prob(Omnibus):</th> <td> 0.000</td> <th>  Jarque-Bera (JB):  </th> <td>  26.512</td>\n",
       "</tr>\n",
       "<tr>\n",
       "  <th>Skew:</th>          <td> 0.418</td> <th>  Prob(JB):          </th> <td>1.75e-06</td>\n",
       "</tr>\n",
       "<tr>\n",
       "  <th>Kurtosis:</th>      <td> 2.737</td> <th>  Cond. No.          </th> <td>    4.70</td>\n",
       "</tr>\n",
       "</table><br/><br/>Warnings:<br/>[1] Standard Errors assume that the covariance matrix of the errors is correctly specified."
      ],
      "text/plain": [
       "<class 'statsmodels.iolib.summary.Summary'>\n",
       "\"\"\"\n",
       "                            OLS Regression Results                            \n",
       "==============================================================================\n",
       "Dep. Variable:           num_of_items   R-squared:                       0.018\n",
       "Model:                            OLS   Adj. R-squared:                  0.012\n",
       "Method:                 Least Squares   F-statistic:                     3.012\n",
       "Date:                Wed, 30 Jan 2019   Prob (F-statistic):             0.0106\n",
       "Time:                        11:33:37   Log-Likelihood:                -1230.1\n",
       "No. Observations:                 829   AIC:                             2472.\n",
       "Df Residuals:                     823   BIC:                             2501.\n",
       "Df Model:                           5                                         \n",
       "Covariance Type:            nonrobust                                         \n",
       "==========================================================================================\n",
       "                             coef    std err          t      P>|t|      [0.025      0.975]\n",
       "------------------------------------------------------------------------------------------\n",
       "Intercept                  2.4667      0.050     48.858      0.000       2.368       2.566\n",
       "C(lvl_of_disc)[T.0.05]     0.0217      0.126      0.172      0.863      -0.226       0.269\n",
       "C(lvl_of_disc)[T.0.1]      0.4252      0.134      3.165      0.002       0.162       0.689\n",
       "C(lvl_of_disc)[T.0.15]     0.2400      0.134      1.797      0.073      -0.022       0.502\n",
       "C(lvl_of_disc)[T.0.2]      0.1861      0.136      1.369      0.171      -0.081       0.453\n",
       "C(lvl_of_disc)[T.0.25]     0.2833      0.136      2.084      0.037       0.017       0.550\n",
       "==============================================================================\n",
       "Omnibus:                       25.511   Durbin-Watson:                   2.014\n",
       "Prob(Omnibus):                  0.000   Jarque-Bera (JB):               26.512\n",
       "Skew:                           0.418   Prob(JB):                     1.75e-06\n",
       "Kurtosis:                       2.737   Cond. No.                         4.70\n",
       "==============================================================================\n",
       "\n",
       "Warnings:\n",
       "[1] Standard Errors assume that the covariance matrix of the errors is correctly specified.\n",
       "\"\"\""
      ]
     },
     "execution_count": 86,
     "metadata": {},
     "output_type": "execute_result"
    }
   ],
   "source": [
    "results = ols('num_of_items ~ C(lvl_of_disc)', data=df_order).fit()\n",
    "results.summary()"
   ]
  },
  {
   "cell_type": "markdown",
   "metadata": {},
   "source": [
    "Neither our Omnibus (homogenity) or Jarque-Bera (normailty) were signifigant meaning our assumptions for our test panned out. \n",
    "\n",
    "So focusing p-value of the F-statisic, it is less than our critical value. So there is a difference between the two groups and that means we have to dig a bit deeper. Finally to check at what level we see the biggest difference:"
   ]
  },
  {
   "cell_type": "code",
   "execution_count": 87,
   "metadata": {},
   "outputs": [
    {
     "name": "stdout",
     "output_type": "stream",
     "text": [
      "Multiple Comparison of Means - Tukey HSD,FWER=0.05\n",
      "============================================\n",
      "group1 group2 meandiff  lower  upper  reject\n",
      "--------------------------------------------\n",
      " 0.0    0.05   0.0217  -0.3383 0.3817 False \n",
      " 0.0    0.1    0.4252   0.0415 0.809   True \n",
      " 0.0    0.15    0.24   -0.1415 0.6215 False \n",
      " 0.0    0.2    0.1861  -0.2022 0.5744 False \n",
      " 0.0    0.25   0.2833   -0.105 0.6716 False \n",
      " 0.05   0.1    0.4035  -0.0815 0.8886 False \n",
      " 0.05   0.15   0.2183   -0.265 0.7016 False \n",
      " 0.05   0.2    0.1644  -0.3243 0.6531 False \n",
      " 0.05   0.25   0.2616   -0.227 0.7503 False \n",
      " 0.1    0.15  -0.1852  -0.6865 0.316  False \n",
      " 0.1    0.2   -0.2391  -0.7455 0.2673 False \n",
      " 0.1    0.25  -0.1419  -0.6483 0.3645 False \n",
      " 0.15   0.2   -0.0539  -0.5586 0.4509 False \n",
      " 0.15   0.25   0.0433  -0.4614 0.5481 False \n",
      " 0.2    0.25   0.0972  -0.4126 0.6071 False \n",
      "--------------------------------------------\n"
     ]
    }
   ],
   "source": [
    "mc = MultiComparison(df_order.num_of_items, df_order.lvl_of_disc)\n",
    "mc_results = mc.tukeyhsd()\n",
    "print(mc_results)"
   ]
  },
  {
   "cell_type": "markdown",
   "metadata": {},
   "source": [
    "### 1-3 Results\n",
    "\n",
    "- We can reject our null hypothesis that concludes that there is __signifigant difference__ between discount and no discount (p-value < $\\alpha$ :: 0.0106 < 0.05)  \n",
    "- Comparing between the different levels of discount, the greatest effect is seen at no discount to a 10% discount. \n",
    "- Further testing needs to account for orders with different discount levels within the same order\n",
    "___\n",
    "___"
   ]
  },
  {
   "cell_type": "markdown",
   "metadata": {},
   "source": [
    "# 2) Is there a difference in the money generated from sales between the North America office and the British Island office?"
   ]
  },
  {
   "cell_type": "markdown",
   "metadata": {},
   "source": [
    "The employees of this company are based in two central locations. I want to know if one office is better at business than the other. The metric will be money generated (products ordered * price) with the differential based on one office or another.\n",
    "\n",
    "$H_{o} =$ The employees based out of the British Island office generates the same amount renvenue, per order, than the North American office.  \n",
    "$H_{\\alpha} =$ The employees based out of the British Island office generates less renvenue, per order, than the North American office."
   ]
  },
  {
   "cell_type": "markdown",
   "metadata": {},
   "source": [
    "### 2-1 Inital Analysis\n",
    "\n",
    "During my EDA, the information for employee territory not specific for my needs. I will use the region they live in as the seperation."
   ]
  },
  {
   "cell_type": "code",
   "execution_count": 139,
   "metadata": {},
   "outputs": [
    {
     "name": "stdout",
     "output_type": "stream",
     "text": [
      "2019-01-30 12:19:04,250 INFO sqlalchemy.engine.base.Engine SELECT od.OrderId, SUM(od.UnitPrice*od.Quantity) AS generated, e.Region AS employ_from FROM OrderDetail od LEFT JOIN [Order] o ON od.OrderId = o.Id LEFT JOIN Employee e ON o.EmployeeId = e.Id\n",
      "GROUP BY od.OrderId\n",
      "2019-01-30 12:19:04,252 INFO sqlalchemy.engine.base.Engine ()\n"
     ]
    },
    {
     "data": {
      "text/html": [
       "<div>\n",
       "<style scoped>\n",
       "    .dataframe tbody tr th:only-of-type {\n",
       "        vertical-align: middle;\n",
       "    }\n",
       "\n",
       "    .dataframe tbody tr th {\n",
       "        vertical-align: top;\n",
       "    }\n",
       "\n",
       "    .dataframe thead th {\n",
       "        text-align: right;\n",
       "    }\n",
       "</style>\n",
       "<table border=\"1\" class=\"dataframe\">\n",
       "  <thead>\n",
       "    <tr style=\"text-align: right;\">\n",
       "      <th></th>\n",
       "      <th>OrderId</th>\n",
       "      <th>generated</th>\n",
       "      <th>employ_from</th>\n",
       "    </tr>\n",
       "  </thead>\n",
       "  <tbody>\n",
       "    <tr>\n",
       "      <th>0</th>\n",
       "      <td>10248</td>\n",
       "      <td>440.0</td>\n",
       "      <td>British Isles</td>\n",
       "    </tr>\n",
       "    <tr>\n",
       "      <th>1</th>\n",
       "      <td>10249</td>\n",
       "      <td>1863.4</td>\n",
       "      <td>British Isles</td>\n",
       "    </tr>\n",
       "    <tr>\n",
       "      <th>2</th>\n",
       "      <td>10250</td>\n",
       "      <td>1813.0</td>\n",
       "      <td>North America</td>\n",
       "    </tr>\n",
       "    <tr>\n",
       "      <th>3</th>\n",
       "      <td>10251</td>\n",
       "      <td>670.8</td>\n",
       "      <td>North America</td>\n",
       "    </tr>\n",
       "    <tr>\n",
       "      <th>4</th>\n",
       "      <td>10252</td>\n",
       "      <td>3730.0</td>\n",
       "      <td>North America</td>\n",
       "    </tr>\n",
       "    <tr>\n",
       "      <th>5</th>\n",
       "      <td>10253</td>\n",
       "      <td>1444.8</td>\n",
       "      <td>North America</td>\n",
       "    </tr>\n",
       "    <tr>\n",
       "      <th>6</th>\n",
       "      <td>10254</td>\n",
       "      <td>625.2</td>\n",
       "      <td>British Isles</td>\n",
       "    </tr>\n",
       "    <tr>\n",
       "      <th>7</th>\n",
       "      <td>10255</td>\n",
       "      <td>2490.5</td>\n",
       "      <td>British Isles</td>\n",
       "    </tr>\n",
       "    <tr>\n",
       "      <th>8</th>\n",
       "      <td>10256</td>\n",
       "      <td>517.8</td>\n",
       "      <td>North America</td>\n",
       "    </tr>\n",
       "    <tr>\n",
       "      <th>9</th>\n",
       "      <td>10257</td>\n",
       "      <td>1119.9</td>\n",
       "      <td>North America</td>\n",
       "    </tr>\n",
       "  </tbody>\n",
       "</table>\n",
       "</div>"
      ],
      "text/plain": [
       "   OrderId  generated    employ_from\n",
       "0    10248      440.0  British Isles\n",
       "1    10249     1863.4  British Isles\n",
       "2    10250     1813.0  North America\n",
       "3    10251      670.8  North America\n",
       "4    10252     3730.0  North America\n",
       "5    10253     1444.8  North America\n",
       "6    10254      625.2  British Isles\n",
       "7    10255     2490.5  British Isles\n",
       "8    10256      517.8  North America\n",
       "9    10257     1119.9  North America"
      ]
     },
     "execution_count": 139,
     "metadata": {},
     "output_type": "execute_result"
    }
   ],
   "source": [
    "q = '''SELECT od.OrderId, SUM(od.UnitPrice*od.Quantity) AS generated, e.Region AS employ_from \\\n",
    "FROM OrderDetail od \\\n",
    "LEFT JOIN [Order] o ON od.OrderId = o.Id \\\n",
    "LEFT JOIN Employee e ON o.EmployeeId = e.Id\n",
    "GROUP BY od.OrderId'''\n",
    "\n",
    "df = pd.read_sql_query(q, engine)\n",
    "df.head(10)"
   ]
  },
  {
   "cell_type": "code",
   "execution_count": 140,
   "metadata": {},
   "outputs": [
    {
     "data": {
      "text/plain": [
       "(830, 3)"
      ]
     },
     "execution_count": 140,
     "metadata": {},
     "output_type": "execute_result"
    }
   ],
   "source": [
    "df.shape"
   ]
  },
  {
   "cell_type": "markdown",
   "metadata": {},
   "source": [
    "Looks like we have all 830 orders. Great."
   ]
  },
  {
   "cell_type": "code",
   "execution_count": 141,
   "metadata": {},
   "outputs": [
    {
     "data": {
      "text/html": [
       "<div>\n",
       "<style scoped>\n",
       "    .dataframe tbody tr th:only-of-type {\n",
       "        vertical-align: middle;\n",
       "    }\n",
       "\n",
       "    .dataframe tbody tr th {\n",
       "        vertical-align: top;\n",
       "    }\n",
       "\n",
       "    .dataframe thead th {\n",
       "        text-align: right;\n",
       "    }\n",
       "</style>\n",
       "<table border=\"1\" class=\"dataframe\">\n",
       "  <thead>\n",
       "    <tr style=\"text-align: right;\">\n",
       "      <th></th>\n",
       "      <th>count</th>\n",
       "      <th>mean</th>\n",
       "      <th>std</th>\n",
       "      <th>min</th>\n",
       "      <th>25%</th>\n",
       "      <th>50%</th>\n",
       "      <th>75%</th>\n",
       "      <th>max</th>\n",
       "    </tr>\n",
       "    <tr>\n",
       "      <th>employ_from</th>\n",
       "      <th></th>\n",
       "      <th></th>\n",
       "      <th></th>\n",
       "      <th></th>\n",
       "      <th></th>\n",
       "      <th></th>\n",
       "      <th></th>\n",
       "      <th></th>\n",
       "    </tr>\n",
       "  </thead>\n",
       "  <tbody>\n",
       "    <tr>\n",
       "      <th>British Isles</th>\n",
       "      <td>224.0</td>\n",
       "      <td>1687.615357</td>\n",
       "      <td>2203.222396</td>\n",
       "      <td>12.5</td>\n",
       "      <td>480.0</td>\n",
       "      <td>930.125</td>\n",
       "      <td>2023.65</td>\n",
       "      <td>16321.9</td>\n",
       "    </tr>\n",
       "    <tr>\n",
       "      <th>North America</th>\n",
       "      <td>606.0</td>\n",
       "      <td>1611.275165</td>\n",
       "      <td>1907.580217</td>\n",
       "      <td>18.4</td>\n",
       "      <td>481.1</td>\n",
       "      <td>1070.500</td>\n",
       "      <td>2028.65</td>\n",
       "      <td>17250.0</td>\n",
       "    </tr>\n",
       "  </tbody>\n",
       "</table>\n",
       "</div>"
      ],
      "text/plain": [
       "               count         mean          std   min    25%       50%  \\\n",
       "employ_from                                                             \n",
       "British Isles  224.0  1687.615357  2203.222396  12.5  480.0   930.125   \n",
       "North America  606.0  1611.275165  1907.580217  18.4  481.1  1070.500   \n",
       "\n",
       "                   75%      max  \n",
       "employ_from                      \n",
       "British Isles  2023.65  16321.9  \n",
       "North America  2028.65  17250.0  "
      ]
     },
     "execution_count": 141,
     "metadata": {},
     "output_type": "execute_result"
    }
   ],
   "source": [
    "df.groupby('employ_from')['generated'].describe()"
   ]
  },
  {
   "cell_type": "markdown",
   "metadata": {},
   "source": [
    "The average made by both offices are close to each other but there is far fewer sales made by the British office. Lets take a quick look at the distribution for both, but look at the above data there is likely to be outliers."
   ]
  },
  {
   "cell_type": "code",
   "execution_count": 142,
   "metadata": {},
   "outputs": [
    {
     "data": {
      "image/png": "[encoded data removed]",
      "text/plain": [
       "<Figure size 432x288 with 2 Axes>"
      ]
     },
     "metadata": {},
     "output_type": "display_data"
    }
   ],
   "source": [
    "df.hist('generated', by='employ_from');"
   ]
  },
  {
   "cell_type": "markdown",
   "metadata": {},
   "source": [
    "There seems to be a few outliers. Lets take care of the egregious ones i.e. anything above 11K"
   ]
  },
  {
   "cell_type": "code",
   "execution_count": 143,
   "metadata": {},
   "outputs": [
    {
     "data": {
      "text/plain": [
       "617    17250.00\n",
       "782    16321.90\n",
       "733    15810.00\n",
       "124    12281.20\n",
       "176    11493.20\n",
       "569    11490.70\n",
       "641    11380.00\n",
       "169    11283.20\n",
       "649    10835.24\n",
       "105    10741.60\n",
       "Name: generated, dtype: float64"
      ]
     },
     "execution_count": 143,
     "metadata": {},
     "output_type": "execute_result"
    }
   ],
   "source": [
    "df.generated.sort_values(ascending=False).head(10)"
   ]
  },
  {
   "cell_type": "code",
   "execution_count": 144,
   "metadata": {},
   "outputs": [],
   "source": [
    "to_drop = [617,782,733,124,176,569,641,169]\n",
    "df.drop(index=to_drop,inplace=True)"
   ]
  },
  {
   "cell_type": "code",
   "execution_count": 145,
   "metadata": {},
   "outputs": [
    {
     "data": {
      "text/plain": [
       "(            OrderId     generated\n",
       " count    220.000000    220.000000\n",
       " mean   10664.827273   1484.316091\n",
       " std      235.640635   1594.673307\n",
       " min    10248.000000     12.500000\n",
       " 25%    10487.500000    479.850000\n",
       " 50%    10666.500000    920.300000\n",
       " 75%    10868.250000   1943.500000\n",
       " max    11074.000000  10741.600000,             OrderId     generated\n",
       " count    602.000000    602.000000\n",
       " mean   10660.827243   1529.233970\n",
       " std      241.085475   1611.180311\n",
       " min    10250.000000     18.400000\n",
       " 25%    10449.250000    479.762500\n",
       " 50%    10659.000000   1061.200000\n",
       " 75%    10870.750000   1972.202500\n",
       " max    11077.000000  10835.240000)"
      ]
     },
     "execution_count": 145,
     "metadata": {},
     "output_type": "execute_result"
    }
   ],
   "source": [
    "brit = df[df.employ_from == 'British Isles']\n",
    "merica = df[df.employ_from == 'North America']\n",
    "brit.describe(), merica.describe()"
   ]
  },
  {
   "cell_type": "markdown",
   "metadata": {},
   "source": [
    "## 2-2 Testing"
   ]
  },
  {
   "cell_type": "markdown",
   "metadata": {},
   "source": [
    "Mann–Whitney U test is a nonparametric test of the null hypothesis that it is equally likely that a randomly selected value from one sample will be less than or greater than a randomly selected value from a second sample.\n",
    "\n",
    "Unlike the t-test it does not require the assumption of normal distributions. It is nearly as efficient as the t-test on normal distributions.\n",
    "\n",
    "Mann-Whitney assumptions:  \n",
    "1) The dependent variable should be measured on an ordinal scale or a continuous scale.  \n",
    "2) The independent variable should be two independent, categorical groups.  \n",
    "3) Observations should be independent. In other words, there should be no relationship between the two groups or within each group.  \n",
    "4) Observations are not normally distributed. However, they should follow the same shape (i.e. both are bell-shaped and skewed left).  \n",
    "\n",
    "\n",
    "All assumptions are met within our data. So finally, refining our hypothesis: \n",
    "\n",
    "$H_{o} =$ There is no statistical difference between the meadian revenues generated by the North American office and the British Island office.  \n",
    "$H_{\\alpha} =$ There is a statistical difference between the meadian revenues generated by the North American office and the British Island office.  \n",
    "$\\alpha = 0.05$"
   ]
  },
  {
   "cell_type": "code",
   "execution_count": 148,
   "metadata": {},
   "outputs": [
    {
     "data": {
      "image/png": "[encoded data removed]",
      "text/plain": [
       "<Figure size 432x288 with 1 Axes>"
      ]
     },
     "metadata": {},
     "output_type": "display_data"
    }
   ],
   "source": [
    "merica['generated'].hist(label='American office')\n",
    "brit['generated'].hist(label='British Isle office')\n",
    "plt.title('Histogram of money generate by based on office location')\n",
    "plt.xlabel('Quantity of money')\n",
    "plt.ylabel('Orders count')\n",
    "plt.legend()\n",
    "plt.show()"
   ]
  },
  {
   "cell_type": "code",
   "execution_count": 147,
   "metadata": {},
   "outputs": [
    {
     "data": {
      "text/plain": [
       "MannwhitneyuResult(statistic=63545.5, pvalue=0.3749479529063807)"
      ]
     },
     "execution_count": 147,
     "metadata": {},
     "output_type": "execute_result"
    }
   ],
   "source": [
    "mannwhitneyu(brit.generated, merica.generated, alternative='two-sided')"
   ]
  },
  {
   "cell_type": "markdown",
   "metadata": {},
   "source": [
    "### 2-3 Results"
   ]
  },
  {
   "cell_type": "markdown",
   "metadata": {},
   "source": [
    "- Failed to reject the null hypothesis. There is no statistical difference between the meadian revenues generated by the North American office and the British Island office \n",
    "- Further testing: chosing a different metric and test out hypothesis again.\n",
    "___\n",
    "___"
   ]
  },
  {
   "cell_type": "markdown",
   "metadata": {},
   "source": [
    "# 3) Does having 'manager' in your title effect the amount a cusomter orders?"
   ]
  },
  {
   "cell_type": "markdown",
   "metadata": {},
   "source": [
    "### 3-1 Inital Analysis\n",
    "$H_{o} =$ Having manager in your title, the amount a cusomter orders doesn't change  \n",
    "$H_{\\alpha} =$ Having manager in your title, the amount a customer orders increases"
   ]
  },
  {
   "cell_type": "markdown",
   "metadata": {},
   "source": [
    "Running a two sample t-test"
   ]
  },
  {
   "cell_type": "code",
   "execution_count": 98,
   "metadata": {},
   "outputs": [
    {
     "name": "stdout",
     "output_type": "stream",
     "text": [
      "Table Name: Customer \n",
      "\n",
      "Id  ||PRIMARY KEY||  dtype: VARCHAR(8000)\n",
      "CompanyName     dtype: VARCHAR(8000)\n",
      "ContactName     dtype: VARCHAR(8000)\n",
      "ContactTitle     dtype: VARCHAR(8000)\n",
      "Address     dtype: VARCHAR(8000)\n",
      "City     dtype: VARCHAR(8000)\n",
      "Region     dtype: VARCHAR(8000)\n",
      "PostalCode     dtype: VARCHAR(8000)\n",
      "Country     dtype: VARCHAR(8000)\n",
      "Phone     dtype: VARCHAR(8000)\n",
      "Fax     dtype: VARCHAR(8000)\n"
     ]
    }
   ],
   "source": [
    "get_column_info('Customer')"
   ]
  },
  {
   "cell_type": "code",
   "execution_count": 149,
   "metadata": {},
   "outputs": [
    {
     "name": "stdout",
     "output_type": "stream",
     "text": [
      "2019-01-30 16:26:56,041 INFO sqlalchemy.engine.base.Engine SELECT c.CompanyName, c.ContactTitle, COUNT(*) AS orders_placed FROM OrderDetail od LEFT JOIN [Order] o ON od.OrderId = o.Id LEFT JOIN Customer c ON c.Id = o.CustomerId GROUP BY c.CompanyName\n",
      "2019-01-30 16:26:56,042 INFO sqlalchemy.engine.base.Engine ()\n"
     ]
    },
    {
     "data": {
      "text/html": [
       "<div>\n",
       "<style scoped>\n",
       "    .dataframe tbody tr th:only-of-type {\n",
       "        vertical-align: middle;\n",
       "    }\n",
       "\n",
       "    .dataframe tbody tr th {\n",
       "        vertical-align: top;\n",
       "    }\n",
       "\n",
       "    .dataframe thead th {\n",
       "        text-align: right;\n",
       "    }\n",
       "</style>\n",
       "<table border=\"1\" class=\"dataframe\">\n",
       "  <thead>\n",
       "    <tr style=\"text-align: right;\">\n",
       "      <th></th>\n",
       "      <th>CompanyName</th>\n",
       "      <th>ContactTitle</th>\n",
       "      <th>orders_placed</th>\n",
       "    </tr>\n",
       "  </thead>\n",
       "  <tbody>\n",
       "    <tr>\n",
       "      <th>0</th>\n",
       "      <td>None</td>\n",
       "      <td>None</td>\n",
       "      <td>77</td>\n",
       "    </tr>\n",
       "    <tr>\n",
       "      <th>1</th>\n",
       "      <td>Alfreds Futterkiste</td>\n",
       "      <td>Sales Representative</td>\n",
       "      <td>12</td>\n",
       "    </tr>\n",
       "    <tr>\n",
       "      <th>2</th>\n",
       "      <td>Ana Trujillo Emparedados y helados</td>\n",
       "      <td>Owner</td>\n",
       "      <td>10</td>\n",
       "    </tr>\n",
       "    <tr>\n",
       "      <th>3</th>\n",
       "      <td>Around the Horn</td>\n",
       "      <td>Sales Representative</td>\n",
       "      <td>30</td>\n",
       "    </tr>\n",
       "    <tr>\n",
       "      <th>4</th>\n",
       "      <td>B's Beverages</td>\n",
       "      <td>Sales Representative</td>\n",
       "      <td>22</td>\n",
       "    </tr>\n",
       "    <tr>\n",
       "      <th>5</th>\n",
       "      <td>Berglunds snabbköp</td>\n",
       "      <td>Order Administrator</td>\n",
       "      <td>52</td>\n",
       "    </tr>\n",
       "    <tr>\n",
       "      <th>6</th>\n",
       "      <td>Blauer See Delikatessen</td>\n",
       "      <td>Sales Representative</td>\n",
       "      <td>14</td>\n",
       "    </tr>\n",
       "    <tr>\n",
       "      <th>7</th>\n",
       "      <td>Blondesddsl père et fils</td>\n",
       "      <td>Marketing Manager</td>\n",
       "      <td>26</td>\n",
       "    </tr>\n",
       "    <tr>\n",
       "      <th>8</th>\n",
       "      <td>Bon app</td>\n",
       "      <td>Owner</td>\n",
       "      <td>44</td>\n",
       "    </tr>\n",
       "    <tr>\n",
       "      <th>9</th>\n",
       "      <td>Bottom-Dollar Markets</td>\n",
       "      <td>Accounting Manager</td>\n",
       "      <td>35</td>\n",
       "    </tr>\n",
       "  </tbody>\n",
       "</table>\n",
       "</div>"
      ],
      "text/plain": [
       "                          CompanyName          ContactTitle  orders_placed\n",
       "0                                None                  None             77\n",
       "1                 Alfreds Futterkiste  Sales Representative             12\n",
       "2  Ana Trujillo Emparedados y helados                 Owner             10\n",
       "3                     Around the Horn  Sales Representative             30\n",
       "4                       B's Beverages  Sales Representative             22\n",
       "5                  Berglunds snabbköp   Order Administrator             52\n",
       "6             Blauer See Delikatessen  Sales Representative             14\n",
       "7            Blondesddsl père et fils     Marketing Manager             26\n",
       "8                             Bon app                 Owner             44\n",
       "9               Bottom-Dollar Markets    Accounting Manager             35"
      ]
     },
     "execution_count": 149,
     "metadata": {},
     "output_type": "execute_result"
    }
   ],
   "source": [
    "q = '''SELECT c.CompanyName, c.ContactTitle, COUNT(*) AS orders_placed \\\n",
    "FROM OrderDetail od \\\n",
    "LEFT JOIN [Order] o ON od.OrderId = o.Id \\\n",
    "LEFT JOIN Customer c ON c.Id = o.CustomerId \\\n",
    "GROUP BY c.CompanyName'''\n",
    "\n",
    "df = pd.read_sql_query(q, engine)\n",
    "df.head(10)"
   ]
  },
  {
   "cell_type": "code",
   "execution_count": 150,
   "metadata": {},
   "outputs": [
    {
     "data": {
      "text/plain": [
       "2155"
      ]
     },
     "execution_count": 150,
     "metadata": {},
     "output_type": "execute_result"
    }
   ],
   "source": [
    "df.orders_placed.sum()"
   ]
  },
  {
   "cell_type": "markdown",
   "metadata": {},
   "source": [
    "Good, we have all of the orders placed. There seems be a few ghost orders, someone placing some personal orders, or some testing data. Nevertheless, I will need to remove them."
   ]
  },
  {
   "cell_type": "code",
   "execution_count": 101,
   "metadata": {},
   "outputs": [
    {
     "data": {
      "text/html": [
       "<div>\n",
       "<style scoped>\n",
       "    .dataframe tbody tr th:only-of-type {\n",
       "        vertical-align: middle;\n",
       "    }\n",
       "\n",
       "    .dataframe tbody tr th {\n",
       "        vertical-align: top;\n",
       "    }\n",
       "\n",
       "    .dataframe thead th {\n",
       "        text-align: right;\n",
       "    }\n",
       "</style>\n",
       "<table border=\"1\" class=\"dataframe\">\n",
       "  <thead>\n",
       "    <tr style=\"text-align: right;\">\n",
       "      <th></th>\n",
       "      <th>orders_placed</th>\n",
       "    </tr>\n",
       "  </thead>\n",
       "  <tbody>\n",
       "    <tr>\n",
       "      <th>count</th>\n",
       "      <td>85.000000</td>\n",
       "    </tr>\n",
       "    <tr>\n",
       "      <th>mean</th>\n",
       "      <td>24.447059</td>\n",
       "    </tr>\n",
       "    <tr>\n",
       "      <th>std</th>\n",
       "      <td>20.049050</td>\n",
       "    </tr>\n",
       "    <tr>\n",
       "      <th>min</th>\n",
       "      <td>2.000000</td>\n",
       "    </tr>\n",
       "    <tr>\n",
       "      <th>25%</th>\n",
       "      <td>11.000000</td>\n",
       "    </tr>\n",
       "    <tr>\n",
       "      <th>50%</th>\n",
       "      <td>20.000000</td>\n",
       "    </tr>\n",
       "    <tr>\n",
       "      <th>75%</th>\n",
       "      <td>31.000000</td>\n",
       "    </tr>\n",
       "    <tr>\n",
       "      <th>max</th>\n",
       "      <td>116.000000</td>\n",
       "    </tr>\n",
       "  </tbody>\n",
       "</table>\n",
       "</div>"
      ],
      "text/plain": [
       "       orders_placed\n",
       "count      85.000000\n",
       "mean       24.447059\n",
       "std        20.049050\n",
       "min         2.000000\n",
       "25%        11.000000\n",
       "50%        20.000000\n",
       "75%        31.000000\n",
       "max       116.000000"
      ]
     },
     "execution_count": 101,
     "metadata": {},
     "output_type": "execute_result"
    }
   ],
   "source": [
    "df.drop(index=0, inplace=True)\n",
    "df.describe()"
   ]
  },
  {
   "cell_type": "code",
   "execution_count": 102,
   "metadata": {},
   "outputs": [],
   "source": [
    "df['is_mgmt'] = np.where(df.ContactTitle.str.contains('anager'),1,0) #also could have used .lower() to include the full word"
   ]
  },
  {
   "cell_type": "code",
   "execution_count": 103,
   "metadata": {},
   "outputs": [
    {
     "data": {
      "text/html": [
       "<div>\n",
       "<style scoped>\n",
       "    .dataframe tbody tr th:only-of-type {\n",
       "        vertical-align: middle;\n",
       "    }\n",
       "\n",
       "    .dataframe tbody tr th {\n",
       "        vertical-align: top;\n",
       "    }\n",
       "\n",
       "    .dataframe thead th {\n",
       "        text-align: right;\n",
       "    }\n",
       "</style>\n",
       "<table border=\"1\" class=\"dataframe\">\n",
       "  <thead>\n",
       "    <tr style=\"text-align: right;\">\n",
       "      <th></th>\n",
       "      <th>CompanyName</th>\n",
       "      <th>ContactTitle</th>\n",
       "      <th>orders_placed</th>\n",
       "      <th>is_mgmt</th>\n",
       "    </tr>\n",
       "  </thead>\n",
       "  <tbody>\n",
       "    <tr>\n",
       "      <th>1</th>\n",
       "      <td>Alfreds Futterkiste</td>\n",
       "      <td>Sales Representative</td>\n",
       "      <td>12</td>\n",
       "      <td>0</td>\n",
       "    </tr>\n",
       "    <tr>\n",
       "      <th>2</th>\n",
       "      <td>Ana Trujillo Emparedados y helados</td>\n",
       "      <td>Owner</td>\n",
       "      <td>10</td>\n",
       "      <td>0</td>\n",
       "    </tr>\n",
       "    <tr>\n",
       "      <th>3</th>\n",
       "      <td>Around the Horn</td>\n",
       "      <td>Sales Representative</td>\n",
       "      <td>30</td>\n",
       "      <td>0</td>\n",
       "    </tr>\n",
       "    <tr>\n",
       "      <th>4</th>\n",
       "      <td>B's Beverages</td>\n",
       "      <td>Sales Representative</td>\n",
       "      <td>22</td>\n",
       "      <td>0</td>\n",
       "    </tr>\n",
       "    <tr>\n",
       "      <th>5</th>\n",
       "      <td>Berglunds snabbköp</td>\n",
       "      <td>Order Administrator</td>\n",
       "      <td>52</td>\n",
       "      <td>0</td>\n",
       "    </tr>\n",
       "    <tr>\n",
       "      <th>6</th>\n",
       "      <td>Blauer See Delikatessen</td>\n",
       "      <td>Sales Representative</td>\n",
       "      <td>14</td>\n",
       "      <td>0</td>\n",
       "    </tr>\n",
       "    <tr>\n",
       "      <th>7</th>\n",
       "      <td>Blondesddsl père et fils</td>\n",
       "      <td>Marketing Manager</td>\n",
       "      <td>26</td>\n",
       "      <td>1</td>\n",
       "    </tr>\n",
       "    <tr>\n",
       "      <th>8</th>\n",
       "      <td>Bon app</td>\n",
       "      <td>Owner</td>\n",
       "      <td>44</td>\n",
       "      <td>0</td>\n",
       "    </tr>\n",
       "    <tr>\n",
       "      <th>9</th>\n",
       "      <td>Bottom-Dollar Markets</td>\n",
       "      <td>Accounting Manager</td>\n",
       "      <td>35</td>\n",
       "      <td>1</td>\n",
       "    </tr>\n",
       "    <tr>\n",
       "      <th>10</th>\n",
       "      <td>Bólido Comidas preparadas</td>\n",
       "      <td>Owner</td>\n",
       "      <td>6</td>\n",
       "      <td>0</td>\n",
       "    </tr>\n",
       "  </tbody>\n",
       "</table>\n",
       "</div>"
      ],
      "text/plain": [
       "                           CompanyName          ContactTitle  orders_placed  \\\n",
       "1                  Alfreds Futterkiste  Sales Representative             12   \n",
       "2   Ana Trujillo Emparedados y helados                 Owner             10   \n",
       "3                      Around the Horn  Sales Representative             30   \n",
       "4                        B's Beverages  Sales Representative             22   \n",
       "5                   Berglunds snabbköp   Order Administrator             52   \n",
       "6              Blauer See Delikatessen  Sales Representative             14   \n",
       "7             Blondesddsl père et fils     Marketing Manager             26   \n",
       "8                              Bon app                 Owner             44   \n",
       "9                Bottom-Dollar Markets    Accounting Manager             35   \n",
       "10           Bólido Comidas preparadas                 Owner              6   \n",
       "\n",
       "    is_mgmt  \n",
       "1         0  \n",
       "2         0  \n",
       "3         0  \n",
       "4         0  \n",
       "5         0  \n",
       "6         0  \n",
       "7         1  \n",
       "8         0  \n",
       "9         1  \n",
       "10        0  "
      ]
     },
     "execution_count": 103,
     "metadata": {},
     "output_type": "execute_result"
    }
   ],
   "source": [
    "df.head(10)"
   ]
  },
  {
   "cell_type": "code",
   "execution_count": 104,
   "metadata": {},
   "outputs": [
    {
     "data": {
      "image/png": "[encoded data removed]",
      "text/plain": [
       "<Figure size 864x864 with 1 Axes>"
      ]
     },
     "metadata": {},
     "output_type": "display_data"
    }
   ],
   "source": [
    "plt.figure(figsize=(12,12))\n",
    "sns.violinplot(y='orders_placed',x='is_mgmt', data=df)\n",
    "plt.title('Violin plots: comparing the distribution of management vs non-management')\n",
    "plt.xlabel('Is management')\n",
    "plt.ylabel('Number of items in order');"
   ]
  },
  {
   "cell_type": "code",
   "execution_count": 105,
   "metadata": {},
   "outputs": [
    {
     "data": {
      "text/plain": [
       "(is_mgmt\n",
       " 0    66\n",
       " 1    19\n",
       " Name: orders_placed, dtype: int64, is_mgmt\n",
       " 0    116\n",
       " 1    102\n",
       " Name: orders_placed, dtype: int64)"
      ]
     },
     "execution_count": 105,
     "metadata": {},
     "output_type": "execute_result"
    }
   ],
   "source": [
    "df.groupby('is_mgmt').orders_placed.idxmax(),df.groupby('is_mgmt').orders_placed.max()"
   ]
  },
  {
   "cell_type": "code",
   "execution_count": 106,
   "metadata": {},
   "outputs": [],
   "source": [
    "df.drop(index=[66,19], inplace=True)\n",
    "#df.drop(index=[57], inplace=True)"
   ]
  },
  {
   "cell_type": "markdown",
   "metadata": {},
   "source": [
    "## 3-2 Testing"
   ]
  },
  {
   "cell_type": "code",
   "execution_count": 107,
   "metadata": {},
   "outputs": [
    {
     "data": {
      "image/png": "[encoded data removed]",
      "text/plain": [
       "<Figure size 864x864 with 1 Axes>"
      ]
     },
     "metadata": {},
     "output_type": "display_data"
    }
   ],
   "source": [
    "plt.figure(figsize=(12,12))\n",
    "sns.violinplot(y='orders_placed',x='is_mgmt', data=df)\n",
    "plt.title('Violin plots: comparing the distribution of management vs non-management')\n",
    "plt.xlabel('Is management')\n",
    "plt.ylabel('Number of items in order');"
   ]
  },
  {
   "cell_type": "code",
   "execution_count": 108,
   "metadata": {},
   "outputs": [
    {
     "data": {
      "text/plain": [
       "Ttest_indResult(statistic=0.6129356004449418, pvalue=0.5416361001977664)"
      ]
     },
     "execution_count": 108,
     "metadata": {},
     "output_type": "execute_result"
    }
   ],
   "source": [
    "mgmt_yes = df.orders_placed[df.is_mgmt == 1]\n",
    "mgmt_no = df.orders_placed[df.is_mgmt == 0]\n",
    "ttest_ind(mgmt_yes, mgmt_no)"
   ]
  },
  {
   "cell_type": "markdown",
   "metadata": {},
   "source": [
    "## 3-3 Results"
   ]
  },
  {
   "cell_type": "markdown",
   "metadata": {},
   "source": [
    "- Failed to reject the null hypothesis. As a customer having manager in your title, the quantity ordered _doesn't signifgantly change_ compared to customers without that title\n",
    "- Further testing: change the criteria in which the customers are grouped. Include 'owner' title with the 'manager' title and compare results."
   ]
  },
  {
   "cell_type": "code",
   "execution_count": null,
   "metadata": {},
   "outputs": [],
   "source": []
  },
  {
   "cell_type": "code",
   "execution_count": null,
   "metadata": {},
   "outputs": [],
   "source": []
  },
  {
   "cell_type": "markdown",
   "metadata": {},
   "source": [
    "# 4) Is there a difference in quantity of products given their average shelf life?\n"
   ]
  },
  {
   "cell_type": "markdown",
   "metadata": {},
   "source": [
    "$H_{o} =$ The quantity of perishable products ordered is the same as the quantity of non-perishable products ordered  \n",
    "$H_{\\alpha} =$ The quantity of perishable products ordered is the different as the quantity of non-perishable products ordered  \n",
    "$\\alpha = 0.05$"
   ]
  },
  {
   "cell_type": "code",
   "execution_count": 109,
   "metadata": {},
   "outputs": [
    {
     "name": "stdout",
     "output_type": "stream",
     "text": [
      "Table Name: OrderDetail \n",
      "\n",
      "Id  ||PRIMARY KEY||  dtype: VARCHAR(8000)\n",
      "OrderId     dtype: INTEGER\n",
      "ProductId     dtype: INTEGER\n",
      "UnitPrice     dtype: DECIMAL\n",
      "Quantity     dtype: INTEGER\n",
      "Discount     dtype: FLOAT\n"
     ]
    }
   ],
   "source": [
    "get_column_info('OrderDetail')"
   ]
  },
  {
   "cell_type": "code",
   "execution_count": 110,
   "metadata": {},
   "outputs": [
    {
     "name": "stdout",
     "output_type": "stream",
     "text": [
      "2019-01-30 11:33:38,422 INFO sqlalchemy.engine.base.Engine SELECT od.ProductId AS prod_id, od.Quantity, od.UnitPrice, cat.CategoryName FROM OrderDetail od LEFT JOIN Product p ON od.ProductId = p.Id LEFT JOIN Category cat ON p.CategoryId = cat.Id \n",
      "2019-01-30 11:33:38,423 INFO sqlalchemy.engine.base.Engine ()\n"
     ]
    },
    {
     "data": {
      "text/html": [
       "<div>\n",
       "<style scoped>\n",
       "    .dataframe tbody tr th:only-of-type {\n",
       "        vertical-align: middle;\n",
       "    }\n",
       "\n",
       "    .dataframe tbody tr th {\n",
       "        vertical-align: top;\n",
       "    }\n",
       "\n",
       "    .dataframe thead th {\n",
       "        text-align: right;\n",
       "    }\n",
       "</style>\n",
       "<table border=\"1\" class=\"dataframe\">\n",
       "  <thead>\n",
       "    <tr style=\"text-align: right;\">\n",
       "      <th></th>\n",
       "      <th>prod_id</th>\n",
       "      <th>Quantity</th>\n",
       "      <th>UnitPrice</th>\n",
       "      <th>CategoryName</th>\n",
       "    </tr>\n",
       "  </thead>\n",
       "  <tbody>\n",
       "    <tr>\n",
       "      <th>0</th>\n",
       "      <td>11</td>\n",
       "      <td>12</td>\n",
       "      <td>14.0</td>\n",
       "      <td>Dairy Products</td>\n",
       "    </tr>\n",
       "    <tr>\n",
       "      <th>1</th>\n",
       "      <td>42</td>\n",
       "      <td>10</td>\n",
       "      <td>9.8</td>\n",
       "      <td>Grains/Cereals</td>\n",
       "    </tr>\n",
       "    <tr>\n",
       "      <th>2</th>\n",
       "      <td>72</td>\n",
       "      <td>5</td>\n",
       "      <td>34.8</td>\n",
       "      <td>Dairy Products</td>\n",
       "    </tr>\n",
       "    <tr>\n",
       "      <th>3</th>\n",
       "      <td>14</td>\n",
       "      <td>9</td>\n",
       "      <td>18.6</td>\n",
       "      <td>Produce</td>\n",
       "    </tr>\n",
       "    <tr>\n",
       "      <th>4</th>\n",
       "      <td>51</td>\n",
       "      <td>40</td>\n",
       "      <td>42.4</td>\n",
       "      <td>Produce</td>\n",
       "    </tr>\n",
       "  </tbody>\n",
       "</table>\n",
       "</div>"
      ],
      "text/plain": [
       "   prod_id  Quantity  UnitPrice    CategoryName\n",
       "0       11        12       14.0  Dairy Products\n",
       "1       42        10        9.8  Grains/Cereals\n",
       "2       72         5       34.8  Dairy Products\n",
       "3       14         9       18.6         Produce\n",
       "4       51        40       42.4         Produce"
      ]
     },
     "execution_count": 110,
     "metadata": {},
     "output_type": "execute_result"
    }
   ],
   "source": [
    "q = '''SELECT od.ProductId AS prod_id, od.Quantity, od.UnitPrice, cat.CategoryName \\\n",
    "FROM OrderDetail od \\\n",
    "LEFT JOIN Product p ON od.ProductId = p.Id \\\n",
    "LEFT JOIN Category cat ON p.CategoryId = cat.Id \\\n",
    "'''\n",
    "\n",
    "df = pd.read_sql_query(q,engine)\n",
    "df.head()"
   ]
  },
  {
   "cell_type": "code",
   "execution_count": 111,
   "metadata": {},
   "outputs": [
    {
     "data": {
      "text/plain": [
       "array(['Dairy Products', 'Grains/Cereals', 'Produce', 'Seafood',\n",
       "       'Condiments', 'Confections', 'Beverages', 'Meat/Poultry'],\n",
       "      dtype=object)"
      ]
     },
     "execution_count": 111,
     "metadata": {},
     "output_type": "execute_result"
    }
   ],
   "source": [
    "df.CategoryName.unique()"
   ]
  },
  {
   "cell_type": "code",
   "execution_count": 112,
   "metadata": {},
   "outputs": [],
   "source": [
    "#goes_bad = ['Produce', 'Meat/Poultry', 'Seafood', 'Dairy Products']\n",
    "#non_perish = ['Beverages', 'Condiments', 'Confections', 'Grains/Cereals']\n",
    "\n",
    "def perishable(row):\n",
    "    if row['CategoryName'] == 'Produce':\n",
    "        return 1\n",
    "    if row['CategoryName'] == 'Meat/Poultry':\n",
    "        return 1\n",
    "    if row['CategoryName'] == 'Seafood':\n",
    "        return 1\n",
    "    if row['CategoryName'] == 'Dairy Products':\n",
    "        return 1\n",
    "    if row['CategoryName'] == 'Beverages':\n",
    "        return 0\n",
    "    if row['CategoryName'] == 'Condiments':\n",
    "        return 0\n",
    "    if row['CategoryName'] == 'Confections':\n",
    "        return 0\n",
    "    if row['CategoryName'] == 'Grains/Cereals':\n",
    "        return 0"
   ]
  },
  {
   "cell_type": "code",
   "execution_count": 113,
   "metadata": {},
   "outputs": [],
   "source": [
    "df['perish'] = df.apply(lambda row :perishable(row), axis=1)"
   ]
  },
  {
   "cell_type": "code",
   "execution_count": 114,
   "metadata": {},
   "outputs": [
    {
     "data": {
      "text/html": [
       "<div>\n",
       "<style scoped>\n",
       "    .dataframe tbody tr th:only-of-type {\n",
       "        vertical-align: middle;\n",
       "    }\n",
       "\n",
       "    .dataframe tbody tr th {\n",
       "        vertical-align: top;\n",
       "    }\n",
       "\n",
       "    .dataframe thead th {\n",
       "        text-align: right;\n",
       "    }\n",
       "</style>\n",
       "<table border=\"1\" class=\"dataframe\">\n",
       "  <thead>\n",
       "    <tr style=\"text-align: right;\">\n",
       "      <th></th>\n",
       "      <th>prod_id</th>\n",
       "      <th>Quantity</th>\n",
       "      <th>UnitPrice</th>\n",
       "      <th>CategoryName</th>\n",
       "      <th>perish</th>\n",
       "    </tr>\n",
       "  </thead>\n",
       "  <tbody>\n",
       "    <tr>\n",
       "      <th>0</th>\n",
       "      <td>11</td>\n",
       "      <td>12</td>\n",
       "      <td>14.0</td>\n",
       "      <td>Dairy Products</td>\n",
       "      <td>1</td>\n",
       "    </tr>\n",
       "    <tr>\n",
       "      <th>1</th>\n",
       "      <td>42</td>\n",
       "      <td>10</td>\n",
       "      <td>9.8</td>\n",
       "      <td>Grains/Cereals</td>\n",
       "      <td>0</td>\n",
       "    </tr>\n",
       "    <tr>\n",
       "      <th>2</th>\n",
       "      <td>72</td>\n",
       "      <td>5</td>\n",
       "      <td>34.8</td>\n",
       "      <td>Dairy Products</td>\n",
       "      <td>1</td>\n",
       "    </tr>\n",
       "    <tr>\n",
       "      <th>3</th>\n",
       "      <td>14</td>\n",
       "      <td>9</td>\n",
       "      <td>18.6</td>\n",
       "      <td>Produce</td>\n",
       "      <td>1</td>\n",
       "    </tr>\n",
       "    <tr>\n",
       "      <th>4</th>\n",
       "      <td>51</td>\n",
       "      <td>40</td>\n",
       "      <td>42.4</td>\n",
       "      <td>Produce</td>\n",
       "      <td>1</td>\n",
       "    </tr>\n",
       "  </tbody>\n",
       "</table>\n",
       "</div>"
      ],
      "text/plain": [
       "   prod_id  Quantity  UnitPrice    CategoryName  perish\n",
       "0       11        12       14.0  Dairy Products       1\n",
       "1       42        10        9.8  Grains/Cereals       0\n",
       "2       72         5       34.8  Dairy Products       1\n",
       "3       14         9       18.6         Produce       1\n",
       "4       51        40       42.4         Produce       1"
      ]
     },
     "execution_count": 114,
     "metadata": {},
     "output_type": "execute_result"
    }
   ],
   "source": [
    "df.head()"
   ]
  },
  {
   "cell_type": "code",
   "execution_count": 115,
   "metadata": {},
   "outputs": [
    {
     "data": {
      "image/png": "[encoded data removed]",
      "text/plain": [
       "<Figure size 864x864 with 1 Axes>"
      ]
     },
     "metadata": {},
     "output_type": "display_data"
    }
   ],
   "source": [
    "plt.figure(figsize=(12,12))\n",
    "sns.violinplot(y='Quantity',x='perish', data=df)\n",
    "plt.title('Violin plots: comparing the distribution of perishable items')\n",
    "plt.xlabel('Is perishable')\n",
    "plt.ylabel('Quantity ordered');"
   ]
  },
  {
   "cell_type": "code",
   "execution_count": 119,
   "metadata": {},
   "outputs": [
    {
     "data": {
      "text/plain": [
       "perish\n",
       "0    AxesSubplot(0.125,0.125;0.775x0.755)\n",
       "1    AxesSubplot(0.125,0.125;0.775x0.755)\n",
       "Name: Quantity, dtype: object"
      ]
     },
     "execution_count": 119,
     "metadata": {},
     "output_type": "execute_result"
    },
    {
     "data": {
      "image/png": "[encoded data removed]",
      "text/plain": [
       "<Figure size 432x288 with 1 Axes>"
      ]
     },
     "metadata": {},
     "output_type": "display_data"
    }
   ],
   "source": [
    "df.groupby('perish')['Quantity'].hist()"
   ]
  },
  {
   "cell_type": "markdown",
   "metadata": {},
   "source": [
    "This is not a normal distribution so going to, once again, impliment the Mann-Whitney U test."
   ]
  },
  {
   "cell_type": "code",
   "execution_count": 121,
   "metadata": {},
   "outputs": [
    {
     "data": {
      "text/plain": [
       "MannwhitneyuResult(statistic=572401.5, pvalue=0.3517636569399852)"
      ]
     },
     "execution_count": 121,
     "metadata": {},
     "output_type": "execute_result"
    }
   ],
   "source": [
    "goes_bad = df.Quantity[df.perish == 1]\n",
    "no_bad = df.Quantity[df.perish == 0]\n",
    "mannwhitneyu(no_bad,goes_bad)"
   ]
  },
  {
   "cell_type": "code",
   "execution_count": null,
   "metadata": {},
   "outputs": [],
   "source": []
  },
  {
   "cell_type": "markdown",
   "metadata": {},
   "source": [
    "# 2) "
   ]
  },
  {
   "cell_type": "markdown",
   "metadata": {},
   "source": [
    "RESOUCES:\n",
    "\n",
    "https://www.ncbi.nlm.nih.gov/pmc/articles/PMC3116565/\n",
    "\n",
    "https://pythonfordatascience.org/"
   ]
  },
  {
   "cell_type": "code",
   "execution_count": null,
   "metadata": {},
   "outputs": [],
   "source": []
  },
  {
   "cell_type": "code",
   "execution_count": null,
   "metadata": {},
   "outputs": [],
   "source": []
  },
  {
   "cell_type": "code",
   "execution_count": null,
   "metadata": {},
   "outputs": [],
   "source": []
  },
  {
   "cell_type": "code",
   "execution_count": null,
   "metadata": {},
   "outputs": [],
   "source": []
  },
  {
   "cell_type": "code",
   "execution_count": null,
   "metadata": {},
   "outputs": [],
   "source": []
  },
  {
   "cell_type": "code",
   "execution_count": null,
   "metadata": {},
   "outputs": [],
   "source": []
  },
  {
   "cell_type": "code",
   "execution_count": null,
   "metadata": {},
   "outputs": [],
   "source": []
  }
 ],
 "metadata": {
  "kernelspec": {
   "display_name": "Python 3",
   "language": "python",
   "name": "python3"
  },
  "language_info": {
   "codemirror_mode": {
    "name": "ipython",
    "version": 3
   },
   "file_extension": ".py",
   "mimetype": "text/x-python",
   "name": "python",
   "nbconvert_exporter": "python",
   "pygments_lexer": "ipython3",
   "version": "3.6.5"
  }
 },
 "nbformat": 4,
 "nbformat_minor": 2
}
